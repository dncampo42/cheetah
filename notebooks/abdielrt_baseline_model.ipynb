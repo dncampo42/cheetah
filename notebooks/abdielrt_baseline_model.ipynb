{
  "cells": [
    {
      "cell_type": "code",
      "execution_count": 1,
      "id": "fdd4585d",
      "metadata": {
        "ExecuteTime": {
          "end_time": "2022-06-14T11:02:27.098232Z",
          "start_time": "2022-06-14T11:02:23.863573Z"
        },
        "id": "fdd4585d"
      },
      "outputs": [],
      "source": [
        "import numpy as np \n",
        "import pandas as pd \n",
        "import matplotlib.pyplot as plt\n",
        "import os\n",
        "from glob import glob\n",
        "\n",
        "# tensorflow keras\n",
        "from tensorflow.keras import Sequential, layers, callbacks, optimizers\n",
        "from tensorflow.keras.layers import Conv2D, MaxPooling2D, Flatten, Dropout, Dense, Rescaling\n",
        "\n",
        "import tensorflow as tf\n",
        "from tensorflow.io import decode_jpeg, read_file\n",
        "from tensorflow.image import resize\n",
        "from tensorflow.data import AUTOTUNE, Dataset"
      ]
    },
    {
      "cell_type": "markdown",
      "id": "e57fbce8",
      "metadata": {
        "id": "e57fbce8"
      },
      "source": [
        "# Data Preparation"
      ]
    },
    {
      "cell_type": "markdown",
      "source": [
        "Load data"
      ],
      "metadata": {
        "id": "ob5uMRT_czmm"
      },
      "id": "ob5uMRT_czmm"
    },
    {
      "cell_type": "code",
      "source": [
        "from google.colab import drive\n",
        "drive.mount('/content/drive')"
      ],
      "metadata": {
        "colab": {
          "base_uri": "https://localhost:8080/"
        },
        "id": "0BMJrkADXtgE",
        "outputId": "1c01c16b-34f4-4720-cbc9-6f6671882802"
      },
      "id": "0BMJrkADXtgE",
      "execution_count": 2,
      "outputs": [
        {
          "output_type": "stream",
          "name": "stdout",
          "text": [
            "Drive already mounted at /content/drive; to attempt to forcibly remount, call drive.mount(\"/content/drive\", force_remount=True).\n"
          ]
        }
      ]
    },
    {
      "cell_type": "code",
      "execution_count": 3,
      "id": "63ae70aa",
      "metadata": {
        "ExecuteTime": {
          "end_time": "2022-06-14T11:02:35.799615Z",
          "start_time": "2022-06-14T11:02:35.678397Z"
        },
        "colab": {
          "base_uri": "https://localhost:8080/",
          "height": 206
        },
        "id": "63ae70aa",
        "outputId": "4fe29795-ab63-41c4-e785-61cad152df32"
      },
      "outputs": [
        {
          "output_type": "execute_result",
          "data": {
            "text/plain": [
              "     lesion_id      image_id   dx dx_type   age   sex localization\n",
              "0  HAM_0000118  ISIC_0027419  bkl   histo  80.0  male        scalp\n",
              "1  HAM_0000118  ISIC_0025030  bkl   histo  80.0  male        scalp\n",
              "2  HAM_0002730  ISIC_0026769  bkl   histo  80.0  male        scalp\n",
              "3  HAM_0002730  ISIC_0025661  bkl   histo  80.0  male        scalp\n",
              "4  HAM_0001466  ISIC_0031633  bkl   histo  75.0  male          ear"
            ],
            "text/html": [
              "\n",
              "  <div id=\"df-b245f0e2-7dc4-4ef3-b4e8-267aca5ebc14\">\n",
              "    <div class=\"colab-df-container\">\n",
              "      <div>\n",
              "<style scoped>\n",
              "    .dataframe tbody tr th:only-of-type {\n",
              "        vertical-align: middle;\n",
              "    }\n",
              "\n",
              "    .dataframe tbody tr th {\n",
              "        vertical-align: top;\n",
              "    }\n",
              "\n",
              "    .dataframe thead th {\n",
              "        text-align: right;\n",
              "    }\n",
              "</style>\n",
              "<table border=\"1\" class=\"dataframe\">\n",
              "  <thead>\n",
              "    <tr style=\"text-align: right;\">\n",
              "      <th></th>\n",
              "      <th>lesion_id</th>\n",
              "      <th>image_id</th>\n",
              "      <th>dx</th>\n",
              "      <th>dx_type</th>\n",
              "      <th>age</th>\n",
              "      <th>sex</th>\n",
              "      <th>localization</th>\n",
              "    </tr>\n",
              "  </thead>\n",
              "  <tbody>\n",
              "    <tr>\n",
              "      <th>0</th>\n",
              "      <td>HAM_0000118</td>\n",
              "      <td>ISIC_0027419</td>\n",
              "      <td>bkl</td>\n",
              "      <td>histo</td>\n",
              "      <td>80.0</td>\n",
              "      <td>male</td>\n",
              "      <td>scalp</td>\n",
              "    </tr>\n",
              "    <tr>\n",
              "      <th>1</th>\n",
              "      <td>HAM_0000118</td>\n",
              "      <td>ISIC_0025030</td>\n",
              "      <td>bkl</td>\n",
              "      <td>histo</td>\n",
              "      <td>80.0</td>\n",
              "      <td>male</td>\n",
              "      <td>scalp</td>\n",
              "    </tr>\n",
              "    <tr>\n",
              "      <th>2</th>\n",
              "      <td>HAM_0002730</td>\n",
              "      <td>ISIC_0026769</td>\n",
              "      <td>bkl</td>\n",
              "      <td>histo</td>\n",
              "      <td>80.0</td>\n",
              "      <td>male</td>\n",
              "      <td>scalp</td>\n",
              "    </tr>\n",
              "    <tr>\n",
              "      <th>3</th>\n",
              "      <td>HAM_0002730</td>\n",
              "      <td>ISIC_0025661</td>\n",
              "      <td>bkl</td>\n",
              "      <td>histo</td>\n",
              "      <td>80.0</td>\n",
              "      <td>male</td>\n",
              "      <td>scalp</td>\n",
              "    </tr>\n",
              "    <tr>\n",
              "      <th>4</th>\n",
              "      <td>HAM_0001466</td>\n",
              "      <td>ISIC_0031633</td>\n",
              "      <td>bkl</td>\n",
              "      <td>histo</td>\n",
              "      <td>75.0</td>\n",
              "      <td>male</td>\n",
              "      <td>ear</td>\n",
              "    </tr>\n",
              "  </tbody>\n",
              "</table>\n",
              "</div>\n",
              "      <button class=\"colab-df-convert\" onclick=\"convertToInteractive('df-b245f0e2-7dc4-4ef3-b4e8-267aca5ebc14')\"\n",
              "              title=\"Convert this dataframe to an interactive table.\"\n",
              "              style=\"display:none;\">\n",
              "        \n",
              "  <svg xmlns=\"http://www.w3.org/2000/svg\" height=\"24px\"viewBox=\"0 0 24 24\"\n",
              "       width=\"24px\">\n",
              "    <path d=\"M0 0h24v24H0V0z\" fill=\"none\"/>\n",
              "    <path d=\"M18.56 5.44l.94 2.06.94-2.06 2.06-.94-2.06-.94-.94-2.06-.94 2.06-2.06.94zm-11 1L8.5 8.5l.94-2.06 2.06-.94-2.06-.94L8.5 2.5l-.94 2.06-2.06.94zm10 10l.94 2.06.94-2.06 2.06-.94-2.06-.94-.94-2.06-.94 2.06-2.06.94z\"/><path d=\"M17.41 7.96l-1.37-1.37c-.4-.4-.92-.59-1.43-.59-.52 0-1.04.2-1.43.59L10.3 9.45l-7.72 7.72c-.78.78-.78 2.05 0 2.83L4 21.41c.39.39.9.59 1.41.59.51 0 1.02-.2 1.41-.59l7.78-7.78 2.81-2.81c.8-.78.8-2.07 0-2.86zM5.41 20L4 18.59l7.72-7.72 1.47 1.35L5.41 20z\"/>\n",
              "  </svg>\n",
              "      </button>\n",
              "      \n",
              "  <style>\n",
              "    .colab-df-container {\n",
              "      display:flex;\n",
              "      flex-wrap:wrap;\n",
              "      gap: 12px;\n",
              "    }\n",
              "\n",
              "    .colab-df-convert {\n",
              "      background-color: #E8F0FE;\n",
              "      border: none;\n",
              "      border-radius: 50%;\n",
              "      cursor: pointer;\n",
              "      display: none;\n",
              "      fill: #1967D2;\n",
              "      height: 32px;\n",
              "      padding: 0 0 0 0;\n",
              "      width: 32px;\n",
              "    }\n",
              "\n",
              "    .colab-df-convert:hover {\n",
              "      background-color: #E2EBFA;\n",
              "      box-shadow: 0px 1px 2px rgba(60, 64, 67, 0.3), 0px 1px 3px 1px rgba(60, 64, 67, 0.15);\n",
              "      fill: #174EA6;\n",
              "    }\n",
              "\n",
              "    [theme=dark] .colab-df-convert {\n",
              "      background-color: #3B4455;\n",
              "      fill: #D2E3FC;\n",
              "    }\n",
              "\n",
              "    [theme=dark] .colab-df-convert:hover {\n",
              "      background-color: #434B5C;\n",
              "      box-shadow: 0px 1px 3px 1px rgba(0, 0, 0, 0.15);\n",
              "      filter: drop-shadow(0px 1px 2px rgba(0, 0, 0, 0.3));\n",
              "      fill: #FFFFFF;\n",
              "    }\n",
              "  </style>\n",
              "\n",
              "      <script>\n",
              "        const buttonEl =\n",
              "          document.querySelector('#df-b245f0e2-7dc4-4ef3-b4e8-267aca5ebc14 button.colab-df-convert');\n",
              "        buttonEl.style.display =\n",
              "          google.colab.kernel.accessAllowed ? 'block' : 'none';\n",
              "\n",
              "        async function convertToInteractive(key) {\n",
              "          const element = document.querySelector('#df-b245f0e2-7dc4-4ef3-b4e8-267aca5ebc14');\n",
              "          const dataTable =\n",
              "            await google.colab.kernel.invokeFunction('convertToInteractive',\n",
              "                                                     [key], {});\n",
              "          if (!dataTable) return;\n",
              "\n",
              "          const docLinkHtml = 'Like what you see? Visit the ' +\n",
              "            '<a target=\"_blank\" href=https://colab.research.google.com/notebooks/data_table.ipynb>data table notebook</a>'\n",
              "            + ' to learn more about interactive tables.';\n",
              "          element.innerHTML = '';\n",
              "          dataTable['output_type'] = 'display_data';\n",
              "          await google.colab.output.renderOutput(dataTable, element);\n",
              "          const docLink = document.createElement('div');\n",
              "          docLink.innerHTML = docLinkHtml;\n",
              "          element.appendChild(docLink);\n",
              "        }\n",
              "      </script>\n",
              "    </div>\n",
              "  </div>\n",
              "  "
            ]
          },
          "metadata": {},
          "execution_count": 3
        }
      ],
      "source": [
        "base_dir = '/content/drive/My Drive/Colab Notebooks/melanoma_project/'\n",
        "meta = pd.read_csv(base_dir+'raw_data/HAM10000_metadata.csv')\n",
        "meta.head()"
      ]
    },
    {
      "cell_type": "markdown",
      "id": "3aec7ef2",
      "metadata": {
        "id": "3aec7ef2"
      },
      "source": [
        "## Image paths to metadata"
      ]
    },
    {
      "cell_type": "code",
      "execution_count": 4,
      "id": "30cef79b",
      "metadata": {
        "ExecuteTime": {
          "end_time": "2022-06-14T11:02:50.615902Z",
          "start_time": "2022-06-14T11:02:50.369242Z"
        },
        "id": "30cef79b"
      },
      "outputs": [],
      "source": [
        "base_skin_dir = os.path.join(base_dir,'raw_data')\n",
        "imageid_path_dict = {os.path.splitext(os.path.basename(x))[0]: x\n",
        "                     for x in glob(os.path.join(base_skin_dir,'**', '*.jpg'),recursive=True)}\n",
        "\n",
        "meta['path'] = meta['image_id'].map(imageid_path_dict.get)"
      ]
    },
    {
      "cell_type": "markdown",
      "source": [
        "## Custom functions"
      ],
      "metadata": {
        "id": "sTDXfCcCdTt-"
      },
      "id": "sTDXfCcCdTt-"
    },
    {
      "cell_type": "markdown",
      "source": [
        "Dataset manipulation"
      ],
      "metadata": {
        "id": "2XPdD6BcXq0K"
      },
      "id": "2XPdD6BcXq0K"
    },
    {
      "cell_type": "code",
      "execution_count": 5,
      "id": "a2996592",
      "metadata": {
        "ExecuteTime": {
          "end_time": "2022-06-14T11:03:12.822368Z",
          "start_time": "2022-06-14T11:03:12.813318Z"
        },
        "id": "a2996592"
      },
      "outputs": [],
      "source": [
        "def data_balancer(df):\n",
        "    '''Returns a metadata set with equal number of melanoma and nevi observations'''\n",
        "    mel_df = df.query('dx == \"mel\"')\n",
        "    rest_df = df.query('dx == \"nv\"')\n",
        "    #randomly takes indexes equal number of melanoma observations\n",
        "    idx_nonmel = np.random.choice(list(rest_df.index), len(mel_df)) \n",
        "    non_mel_balanced = df.iloc[idx_nonmel]\n",
        "    balanced_meta = pd.concat([non_mel_balanced,mel_df], axis=0)\n",
        "    return balanced_meta"
      ]
    },
    {
      "cell_type": "code",
      "source": [
        "def reduce_set(df, reduction_factor = 10):\n",
        "    '''Reduces dataset size by the reduction factor'''\n",
        "    # Choosing the random indices of small train set and small test set\n",
        "    idx =  np.random.choice(len(df), round(len(df)/reduction_factor))\n",
        "    # Collecting the two subsamples images_train_small and images_test_small from images_train and images_test\n",
        "    reduced_df = df.iloc[idx]\n",
        "    return reduced_df "
      ],
      "metadata": {
        "id": "7BaI7ywmdrNx"
      },
      "id": "7BaI7ywmdrNx",
      "execution_count": 6,
      "outputs": []
    },
    {
      "cell_type": "markdown",
      "source": [
        "Tensorflow image extraction"
      ],
      "metadata": {
        "id": "-9YuKDHnXuEe"
      },
      "id": "-9YuKDHnXuEe"
    },
    {
      "cell_type": "code",
      "source": [
        "def decode_resize(img,img_height, img_width):\n",
        "    '''Decodes JPG img=image and resizes to img_height=180, img_width=240.\n",
        "    Returns a uint8 resize image'''\n",
        "    # Convert the compressed string to a 3D uint8 tensor\n",
        "    img = decode_jpeg(img, channels=3)\n",
        "    # Resize the image to the desired size\n",
        "    img = resize(img, [img_height, img_width])\n",
        "    return tf.cast(img, tf.uint8)"
      ],
      "metadata": {
        "id": "CgTS2UdXbNek"
      },
      "id": "CgTS2UdXbNek",
      "execution_count": 7,
      "outputs": []
    },
    {
      "cell_type": "code",
      "source": [
        "def get_image_and_label(pathdx):\n",
        "    '''Returns decoded image and its corresponding binary encoded \n",
        "    classification.'''\n",
        "    img = read_file(pathdx[0])\n",
        "    if pathdx[1] == 'mel':\n",
        "        label = 1\n",
        "    else:\n",
        "        label = 0\n",
        "    return decode_resize(img,img_height=180, img_width=240), label\n"
      ],
      "metadata": {
        "id": "ZKuVnK5sHWLe"
      },
      "id": "ZKuVnK5sHWLe",
      "execution_count": 8,
      "outputs": []
    },
    {
      "cell_type": "code",
      "source": [
        "def prepare_dataset(df):\n",
        "    '''Prepares a tensorflow dataset with image path and classification and gets\n",
        "    the decoded and resized image with its classification. Optimizes the mapping \n",
        "    with parallel calls tf.data.AUTOTUNE\n",
        "    Returns a tf.parallelMapDataset'''\n",
        "    list_ds = Dataset.from_tensor_slices(df[['path','dx']])\n",
        "    tf_ds = list_ds.map(get_image_and_label, num_parallel_calls=AUTOTUNE)\n",
        "    return tf_ds"
      ],
      "metadata": {
        "id": "u9w2Sktrhx7p"
      },
      "id": "u9w2Sktrhx7p",
      "execution_count": 9,
      "outputs": []
    },
    {
      "cell_type": "markdown",
      "source": [
        "Train validation split"
      ],
      "metadata": {
        "id": "Kfn42RVV_92a"
      },
      "id": "Kfn42RVV_92a"
    },
    {
      "cell_type": "code",
      "source": [
        "def tf_train_val_split(ds, val_ratio=0.2):\n",
        "    '''Takes a ds tensorflow.dataset and returns train and validation \n",
        "    datasets with a validation ratio val_ratio.'''\n",
        "    val_size = int(len(ds) * val_ratio)\n",
        "    train_ds = ds.skip(val_size)\n",
        "    val_ds = ds.take(val_size)\n",
        "    return train_ds, val_ds"
      ],
      "metadata": {
        "id": "9AK6BEXr18F8"
      },
      "execution_count": 10,
      "outputs": [],
      "id": "9AK6BEXr18F8"
    },
    {
      "cell_type": "markdown",
      "source": [
        "Optimized perfomance for tensorflow.dataset"
      ],
      "metadata": {
        "id": "8CbTeEq2AD8A"
      },
      "id": "8CbTeEq2AD8A"
    },
    {
      "cell_type": "code",
      "source": [
        "def configure_for_performance(ds):\n",
        "    ds = ds.cache()\n",
        "    ds = ds.shuffle(buffer_size=1000)\n",
        "    ds = ds.batch(batch_size=16)\n",
        "    ds = ds.prefetch(buffer_size=AUTOTUNE)\n",
        "    return ds"
      ],
      "metadata": {
        "id": "sSRFdOVA8WHn"
      },
      "id": "sSRFdOVA8WHn",
      "execution_count": 11,
      "outputs": []
    },
    {
      "cell_type": "markdown",
      "source": [
        "## Small dataset test "
      ],
      "metadata": {
        "id": "cJOtTQJ7gz8l"
      },
      "id": "cJOtTQJ7gz8l"
    },
    {
      "cell_type": "markdown",
      "source": [
        "Prepare a small datset"
      ],
      "metadata": {
        "id": "g525Vrty8K_X"
      },
      "id": "g525Vrty8K_X"
    },
    {
      "cell_type": "code",
      "source": [
        "balanced_meta = data_balancer(meta)\n",
        "reduced_meta = reduce_set(balanced_meta, reduction_factor=3)\n",
        "reduced_meta.shape"
      ],
      "metadata": {
        "colab": {
          "base_uri": "https://localhost:8080/"
        },
        "id": "tnDZjCWwg7mp",
        "outputId": "bafcec56-7c07-4c7f-bf85-aa59c5e5b609"
      },
      "id": "tnDZjCWwg7mp",
      "execution_count": 12,
      "outputs": [
        {
          "output_type": "execute_result",
          "data": {
            "text/plain": [
              "(742, 8)"
            ]
          },
          "metadata": {},
          "execution_count": 12
        }
      ]
    },
    {
      "cell_type": "code",
      "source": [
        "small_ds = prepare_dataset(reduced_meta)"
      ],
      "metadata": {
        "id": "vXP1B_OI2Ah5"
      },
      "id": "vXP1B_OI2Ah5",
      "execution_count": 13,
      "outputs": []
    },
    {
      "cell_type": "code",
      "source": [
        "for img, label in small_ds.take(1):\n",
        "    print(\"Image shape: \", img.numpy().shape)\n",
        "    print(\"Label: \", label.numpy())"
      ],
      "metadata": {
        "colab": {
          "base_uri": "https://localhost:8080/"
        },
        "id": "TG9UP4hCCC0t",
        "outputId": "3e92e73b-01bc-4f27-84c2-181f38d8ca4b"
      },
      "id": "TG9UP4hCCC0t",
      "execution_count": 16,
      "outputs": [
        {
          "output_type": "stream",
          "name": "stdout",
          "text": [
            "Image shape:  (180, 240, 3)\n",
            "Label:  0\n"
          ]
        }
      ]
    },
    {
      "cell_type": "code",
      "source": [
        "small_ds = small_ds.shuffle(len(small_ds), reshuffle_each_iteration=False)"
      ],
      "metadata": {
        "id": "bv98LMld18F7"
      },
      "execution_count": 17,
      "outputs": [],
      "id": "bv98LMld18F7"
    },
    {
      "cell_type": "code",
      "source": [
        "train_small, val_small = tf_train_val_split(small_ds,val_ratio=0.2)\n",
        "train_small = configure_for_performance(train_small)\n",
        "val_small = configure_for_performance(val_small)"
      ],
      "metadata": {
        "id": "IDW7FdBF18F8"
      },
      "execution_count": 18,
      "outputs": [],
      "id": "IDW7FdBF18F8"
    },
    {
      "cell_type": "markdown",
      "source": [
        "Note: 22 images saved in pickle take 68MB in space."
      ],
      "metadata": {
        "id": "50Ck6m4X3ld1"
      },
      "id": "50Ck6m4X3ld1"
    },
    {
      "cell_type": "markdown",
      "source": [
        "## Dataset 2k"
      ],
      "metadata": {
        "id": "uXqj0myuZJCY"
      },
      "id": "uXqj0myuZJCY"
    },
    {
      "cell_type": "markdown",
      "source": [
        "All melanoma images balanced with equal number (1113) of nevi images"
      ],
      "metadata": {
        "id": "hD7yB41Schoy"
      },
      "id": "hD7yB41Schoy"
    },
    {
      "cell_type": "code",
      "source": [
        "balanced_meta = data_balancer(meta)"
      ],
      "metadata": {
        "id": "FbMKYVeahRGN"
      },
      "id": "FbMKYVeahRGN",
      "execution_count": 29,
      "outputs": []
    },
    {
      "cell_type": "code",
      "source": [
        "2k_ds = prepare_dataset(balanced_meta)"
      ],
      "metadata": {
        "id": "Gs30MdQwo2yA"
      },
      "id": "Gs30MdQwo2yA",
      "execution_count": 30,
      "outputs": []
    },
    {
      "cell_type": "code",
      "source": [
        "for img, label in 2k_ds.take(1):\n",
        "    print(\"Image shape: \", img.numpy().shape)\n",
        "    print(\"Label: \", label.numpy())"
      ],
      "metadata": {
        "id": "wkDVyqDTE9G_"
      },
      "id": "wkDVyqDTE9G_",
      "execution_count": null,
      "outputs": []
    },
    {
      "cell_type": "code",
      "source": [
        "2k_ds = 2k_ds.shuffle(len(2k_ds), reshuffle_each_iteration=False)"
      ],
      "metadata": {
        "id": "O_fhyH34zG5u"
      },
      "id": "O_fhyH34zG5u",
      "execution_count": 31,
      "outputs": []
    },
    {
      "cell_type": "code",
      "source": [
        "train_2k, val_2k = tf_train_val_split(2k_ds,val_ratio=0.2)\n"
      ],
      "metadata": {
        "id": "toGpkb_mUq_f"
      },
      "id": "toGpkb_mUq_f",
      "execution_count": 32,
      "outputs": []
    },
    {
      "cell_type": "code",
      "source": [
        "train_2k = configure_for_performance(train_2k)\n",
        "val_2k = configure_for_performance(val_2k)"
      ],
      "metadata": {
        "id": "kqEATBOsgQyC"
      },
      "id": "kqEATBOsgQyC",
      "execution_count": 35,
      "outputs": []
    },
    {
      "cell_type": "markdown",
      "source": [
        "# CNN model"
      ],
      "metadata": {
        "id": "lHdAIXgpcCFn"
      },
      "id": "lHdAIXgpcCFn"
    },
    {
      "cell_type": "code",
      "source": [
        "def initialize_model():\n",
        "    model = Sequential()\n",
        "    model.add(Rescaling(1./255))\n",
        "    model.add(Conv2D(32, kernel_size=(3, 3),activation='relu',padding = 'Same',input_shape=(180,240,3)))\n",
        "    model.add(Conv2D(32,kernel_size=(3, 3), activation='relu',padding = 'Same'))\n",
        "    model.add(MaxPooling2D(pool_size = (2, 2)))\n",
        "    model.add(Dropout(0.16))\n",
        "\n",
        "    model.add(Conv2D(32, kernel_size=(3, 3),activation='relu',padding = 'Same'))\n",
        "    model.add(Conv2D(32,kernel_size=(3, 3), activation='relu',padding = 'Same'))\n",
        "    model.add(MaxPooling2D(pool_size = (2, 2)))\n",
        "    model.add(Dropout(0.20))\n",
        "\n",
        "    model.add(Conv2D(64, (3, 3), activation='relu',padding = 'same'))\n",
        "    model.add(Conv2D(64, (3, 3), activation='relu',padding = 'Same'))\n",
        "    model.add(MaxPooling2D(pool_size=(2, 2)))\n",
        "    model.add(Dropout(0.25))\n",
        "\n",
        "    model.add(Flatten())\n",
        "    model.add(Dense(256, activation='relu'))\n",
        "    model.add(Dense(128, activation='relu'))\n",
        "    model.add(Dropout(0.4))\n",
        "    model.add(Dense(1, activation = 'sigmoid'))\n",
        "    \n",
        "    return model"
      ],
      "metadata": {
        "id": "pyUznPe0cP9H"
      },
      "id": "pyUznPe0cP9H",
      "execution_count": 19,
      "outputs": []
    },
    {
      "cell_type": "code",
      "source": [
        "def compile(model,learning_rate=0.0003, beta_1=0.9, beta_2=0.999):\n",
        "    adam_opt = optimizers.Adam(learning_rate=learning_rate, \n",
        "                                beta_1=beta_1, beta_2=beta_2)\n",
        "\n",
        "    model.compile(loss='binary_crossentropy', \n",
        "                optimizer=adam_opt,\n",
        "                metrics=['accuracy'])\n",
        "    return model"
      ],
      "metadata": {
        "id": "QTGa2BOzf_bU"
      },
      "id": "QTGa2BOzf_bU",
      "execution_count": 20,
      "outputs": []
    },
    {
      "cell_type": "code",
      "source": [
        "model = initialize_model()"
      ],
      "metadata": {
        "id": "G3ED7h0vmX0Z"
      },
      "id": "G3ED7h0vmX0Z",
      "execution_count": 21,
      "outputs": []
    },
    {
      "cell_type": "code",
      "source": [
        "model = compile(model)"
      ],
      "metadata": {
        "id": "7yj2ljzWms9c"
      },
      "id": "7yj2ljzWms9c",
      "execution_count": 22,
      "outputs": []
    },
    {
      "cell_type": "code",
      "source": [
        "# Fit the model. Select corresponding small or 2k_ds\n",
        "es = callbacks.EarlyStopping(patience=20, restore_best_weights=True)\n",
        "\n",
        "history = model.fit(train_2k,\n",
        "                    validation_data=val_2k,\n",
        "                    epochs=300, \n",
        "                    callbacks=[es], \n",
        "                    verbose=1)"
      ],
      "metadata": {
        "id": "wB_WpqUohqPv",
        "colab": {
          "base_uri": "https://localhost:8080/"
        },
        "outputId": "b9f8c311-95dc-4440-f10c-be0ca774eb2e"
      },
      "id": "wB_WpqUohqPv",
      "execution_count": 23,
      "outputs": [
        {
          "output_type": "stream",
          "name": "stdout",
          "text": [
            "Epoch 1/300\n",
            "38/38 [==============================] - 48s 162ms/step - loss: 0.7017 - accuracy: 0.4949 - val_loss: 0.6925 - val_accuracy: 0.5068\n",
            "Epoch 2/300\n",
            "38/38 [==============================] - 2s 48ms/step - loss: 0.6978 - accuracy: 0.5118 - val_loss: 0.6930 - val_accuracy: 0.5068\n",
            "Epoch 3/300\n",
            "38/38 [==============================] - 2s 48ms/step - loss: 0.6892 - accuracy: 0.5370 - val_loss: 0.6636 - val_accuracy: 0.6554\n",
            "Epoch 4/300\n",
            "38/38 [==============================] - 2s 48ms/step - loss: 0.6216 - accuracy: 0.6330 - val_loss: 0.5765 - val_accuracy: 0.7500\n",
            "Epoch 5/300\n",
            "38/38 [==============================] - 2s 50ms/step - loss: 0.5506 - accuracy: 0.7121 - val_loss: 0.5664 - val_accuracy: 0.7432\n",
            "Epoch 6/300\n",
            "38/38 [==============================] - 2s 48ms/step - loss: 0.5664 - accuracy: 0.7088 - val_loss: 0.5445 - val_accuracy: 0.7770\n",
            "Epoch 7/300\n",
            "38/38 [==============================] - 2s 48ms/step - loss: 0.5651 - accuracy: 0.7104 - val_loss: 0.4929 - val_accuracy: 0.7568\n",
            "Epoch 8/300\n",
            "38/38 [==============================] - 2s 48ms/step - loss: 0.5201 - accuracy: 0.7340 - val_loss: 0.5182 - val_accuracy: 0.7230\n",
            "Epoch 9/300\n",
            "38/38 [==============================] - 2s 48ms/step - loss: 0.5073 - accuracy: 0.7323 - val_loss: 0.5991 - val_accuracy: 0.6622\n",
            "Epoch 10/300\n",
            "38/38 [==============================] - 2s 49ms/step - loss: 0.5488 - accuracy: 0.7138 - val_loss: 0.4808 - val_accuracy: 0.7568\n",
            "Epoch 11/300\n",
            "38/38 [==============================] - 2s 49ms/step - loss: 0.5245 - accuracy: 0.7088 - val_loss: 0.4779 - val_accuracy: 0.7635\n",
            "Epoch 12/300\n",
            "38/38 [==============================] - 2s 49ms/step - loss: 0.5192 - accuracy: 0.7290 - val_loss: 0.4770 - val_accuracy: 0.7770\n",
            "Epoch 13/300\n",
            "38/38 [==============================] - 2s 51ms/step - loss: 0.6586 - accuracy: 0.6027 - val_loss: 0.5444 - val_accuracy: 0.7230\n",
            "Epoch 14/300\n",
            "38/38 [==============================] - 2s 49ms/step - loss: 0.5125 - accuracy: 0.7424 - val_loss: 0.4605 - val_accuracy: 0.7703\n",
            "Epoch 15/300\n",
            "38/38 [==============================] - 2s 49ms/step - loss: 0.4912 - accuracy: 0.7643 - val_loss: 0.4816 - val_accuracy: 0.7365\n",
            "Epoch 16/300\n",
            "38/38 [==============================] - 2s 49ms/step - loss: 0.4663 - accuracy: 0.7609 - val_loss: 0.4316 - val_accuracy: 0.7973\n",
            "Epoch 17/300\n",
            "38/38 [==============================] - 2s 48ms/step - loss: 0.5134 - accuracy: 0.7306 - val_loss: 0.4774 - val_accuracy: 0.7635\n",
            "Epoch 18/300\n",
            "38/38 [==============================] - 2s 48ms/step - loss: 0.4270 - accuracy: 0.7778 - val_loss: 0.4512 - val_accuracy: 0.8041\n",
            "Epoch 19/300\n",
            "38/38 [==============================] - 2s 48ms/step - loss: 0.4261 - accuracy: 0.7710 - val_loss: 0.4442 - val_accuracy: 0.7838\n",
            "Epoch 20/300\n",
            "38/38 [==============================] - 2s 48ms/step - loss: 0.4116 - accuracy: 0.7912 - val_loss: 0.4463 - val_accuracy: 0.8176\n",
            "Epoch 21/300\n",
            "38/38 [==============================] - 2s 48ms/step - loss: 0.3944 - accuracy: 0.7811 - val_loss: 0.6915 - val_accuracy: 0.6892\n",
            "Epoch 22/300\n",
            "38/38 [==============================] - 2s 48ms/step - loss: 0.5105 - accuracy: 0.7088 - val_loss: 0.4383 - val_accuracy: 0.8108\n",
            "Epoch 23/300\n",
            "38/38 [==============================] - 2s 48ms/step - loss: 0.3816 - accuracy: 0.8064 - val_loss: 0.4709 - val_accuracy: 0.7838\n",
            "Epoch 24/300\n",
            "38/38 [==============================] - 2s 47ms/step - loss: 0.3377 - accuracy: 0.8384 - val_loss: 0.4914 - val_accuracy: 0.7703\n",
            "Epoch 25/300\n",
            "38/38 [==============================] - 2s 47ms/step - loss: 0.3372 - accuracy: 0.8283 - val_loss: 0.5680 - val_accuracy: 0.7838\n",
            "Epoch 26/300\n",
            "38/38 [==============================] - 2s 47ms/step - loss: 0.3516 - accuracy: 0.8367 - val_loss: 0.5031 - val_accuracy: 0.7432\n",
            "Epoch 27/300\n",
            "38/38 [==============================] - 2s 47ms/step - loss: 0.2929 - accuracy: 0.8418 - val_loss: 0.4904 - val_accuracy: 0.7905\n",
            "Epoch 28/300\n",
            "38/38 [==============================] - 2s 47ms/step - loss: 0.2613 - accuracy: 0.8872 - val_loss: 0.6825 - val_accuracy: 0.7568\n",
            "Epoch 29/300\n",
            "38/38 [==============================] - 2s 47ms/step - loss: 0.2910 - accuracy: 0.8737 - val_loss: 0.6448 - val_accuracy: 0.7365\n",
            "Epoch 30/300\n",
            "38/38 [==============================] - 2s 49ms/step - loss: 0.2063 - accuracy: 0.9007 - val_loss: 0.6488 - val_accuracy: 0.7568\n",
            "Epoch 31/300\n",
            "38/38 [==============================] - 2s 49ms/step - loss: 0.2220 - accuracy: 0.9007 - val_loss: 0.5159 - val_accuracy: 0.7905\n",
            "Epoch 32/300\n",
            "38/38 [==============================] - 2s 47ms/step - loss: 0.1868 - accuracy: 0.9310 - val_loss: 0.6181 - val_accuracy: 0.7905\n",
            "Epoch 33/300\n",
            "38/38 [==============================] - 2s 47ms/step - loss: 0.1782 - accuracy: 0.9310 - val_loss: 0.6266 - val_accuracy: 0.7973\n",
            "Epoch 34/300\n",
            "38/38 [==============================] - 2s 47ms/step - loss: 0.1353 - accuracy: 0.9529 - val_loss: 0.6540 - val_accuracy: 0.7973\n",
            "Epoch 35/300\n",
            "38/38 [==============================] - 2s 47ms/step - loss: 0.1090 - accuracy: 0.9596 - val_loss: 0.7152 - val_accuracy: 0.7973\n",
            "Epoch 36/300\n",
            "38/38 [==============================] - 2s 47ms/step - loss: 0.1051 - accuracy: 0.9613 - val_loss: 0.9588 - val_accuracy: 0.7230\n"
          ]
        }
      ]
    },
    {
      "cell_type": "code",
      "source": [
        "def plot_history(history, title='', axs=None, exp_name=\"\"):\n",
        "    if axs is not None:\n",
        "        ax1, ax2 = axs\n",
        "    else:\n",
        "        f, (ax1, ax2) = plt.subplots(1, 2, figsize=(12, 4))\n",
        "    \n",
        "    if len(exp_name) > 0 and exp_name[0] != '_':\n",
        "        exp_name = '_' + exp_name\n",
        "    ax1.plot(history.history['loss'], label = 'train' + exp_name)\n",
        "    ax1.plot(history.history['val_loss'], label = 'val' + exp_name)\n",
        "    ax1.set_ylim(0., 2.2)\n",
        "    ax1.set_title('loss')\n",
        "    ax1.legend()\n",
        "\n",
        "    ax2.plot(history.history['accuracy'], label='train accuracy'  + exp_name)\n",
        "    ax2.plot(history.history['val_accuracy'], label='val accuracy'  + exp_name)\n",
        "    ax2.set_ylim(0.25, 1.)\n",
        "    ax2.set_title('Accuracy')\n",
        "    ax2.legend()\n",
        "    return (ax1, ax2)"
      ],
      "metadata": {
        "id": "mFcIoJxCoVPh"
      },
      "id": "mFcIoJxCoVPh",
      "execution_count": 24,
      "outputs": []
    },
    {
      "cell_type": "markdown",
      "source": [
        "adam learning rate 0.0003, batch_size=16, patience=20 👇 without last conv2d layer set\n",
        "\n",
        "\n"
      ],
      "metadata": {
        "id": "coj6z1Ds-F7F"
      },
      "id": "coj6z1Ds-F7F"
    },
    {
      "cell_type": "code",
      "source": [
        "plot_history(history);"
      ],
      "metadata": {
        "colab": {
          "base_uri": "https://localhost:8080/",
          "height": 281
        },
        "id": "GYq1HCGawhyj",
        "outputId": "4bec2261-d1d6-4d86-f550-b31b4cefe2f3"
      },
      "id": "GYq1HCGawhyj",
      "execution_count": 47,
      "outputs": [
        {
          "output_type": "display_data",
          "data": {
            "text/plain": [
              "<Figure size 864x288 with 2 Axes>"
            ],
            "image/png": "[encoded data removed]"
          },
          "metadata": {
            "needs_background": "light"
          }
        }
      ]
    },
    {
      "cell_type": "markdown",
      "source": [
        "learning_rate=0.0003, batch=16, patience=20 👇"
      ],
      "metadata": {
        "id": "wp5e6WkzEgkk"
      },
      "id": "wp5e6WkzEgkk"
    },
    {
      "cell_type": "code",
      "source": [
        "plot_history(history);"
      ],
      "metadata": {
        "id": "aHmKPWhFwmLp",
        "colab": {
          "base_uri": "https://localhost:8080/",
          "height": 281
        },
        "outputId": "7ac7ec84-a370-48ef-92a5-59561e94a510"
      },
      "id": "aHmKPWhFwmLp",
      "execution_count": 41,
      "outputs": [
        {
          "output_type": "display_data",
          "data": {
            "text/plain": [
              "<Figure size 864x288 with 2 Axes>"
            ],
            "image/png": "[encoded data removed]"
          },
          "metadata": {
            "needs_background": "light"
          }
        }
      ]
    },
    {
      "cell_type": "markdown",
      "source": [
        "# Simple CNN"
      ],
      "metadata": {
        "id": "kPzHISJrBHbS"
      },
      "id": "kPzHISJrBHbS"
    },
    {
      "cell_type": "code",
      "source": [
        "def initialize_model():\n",
        "    \n",
        "    model = Sequential()\n",
        "    model.add(Rescaling(1./255))\n",
        "    # model.add(Conv2D(32, kernel_size=(3, 3),activation='relu',padding = 'Same',input_shape=(180,240,3)))\n",
        "    # model.add(MaxPooling2D(pool_size = (2, 2)))\n",
        "    # model.add(Dropout(0.16))\n",
        "\n",
        "    # model.add(Conv2D(32, kernel_size=(3, 3),activation='relu',padding = 'Same'))\n",
        "    # model.add(MaxPooling2D(pool_size = (2, 2)))\n",
        "    # model.add(Dropout(0.20))\n",
        "\n",
        "    # model.add(Conv2D(64, (3, 3), activation='relu',padding = 'same'))\n",
        "    # model.add(Conv2D(64, (3, 3), activation='relu',padding = 'Same'))\n",
        "    # model.add(MaxPooling2D(pool_size=(2, 2)))\n",
        "    # model.add(Dropout(0.25))\n",
        "\n",
        "    model.add(Flatten())\n",
        "    model.add(Dense(64, activation='relu',input_shape=(180,240,3)))\n",
        "    model.add(Dense(units= 64, kernel_initializer = 'uniform', activation = 'relu'))\n",
        "    model.add(Dense(units= 64, kernel_initializer = 'uniform', activation = 'relu'))\n",
        "    model.add(Dense(units= 64, kernel_initializer = 'uniform', activation = 'relu'))\n",
        "    # model.add(Dropout(0.4))\n",
        "    model.add(Dense(1, activation = 'sigmoid'))\n",
        "    \n",
        "    return model"
      ],
      "metadata": {
        "id": "ClmaWi3YBPTN"
      },
      "execution_count": 25,
      "outputs": [],
      "id": "ClmaWi3YBPTN"
    },
    {
      "cell_type": "code",
      "source": [
        "def compile(model,learning_rate=0.0003, beta_1=0.9, beta_2=0.999):\n",
        "  adam_opt = optimizers.Adam(learning_rate=learning_rate, \n",
        "                             beta_1=beta_1, beta_2=beta_2)\n",
        "\n",
        "  model.compile(loss='binary_crossentropy', \n",
        "              optimizer=adam_opt,\n",
        "              metrics=['accuracy'])\n",
        "  return model"
      ],
      "metadata": {
        "id": "dYKHPx_9BPTO"
      },
      "execution_count": 26,
      "outputs": [],
      "id": "dYKHPx_9BPTO"
    },
    {
      "cell_type": "code",
      "source": [
        "model = initialize_model()\n"
      ],
      "metadata": {
        "id": "REOlQwmMBeJA"
      },
      "id": "REOlQwmMBeJA",
      "execution_count": 27,
      "outputs": []
    },
    {
      "cell_type": "code",
      "source": [
        "model = compile(model)"
      ],
      "metadata": {
        "id": "EqSqzU1YBPTP"
      },
      "execution_count": 28,
      "outputs": [],
      "id": "EqSqzU1YBPTP"
    },
    {
      "cell_type": "code",
      "source": [
        "es = callbacks.EarlyStopping(patience=30, restore_best_weights=True)\n",
        "\n",
        "history = model.fit(train_2k,\n",
        "                    validation_data=val_2k,\n",
        "                    epochs=200,    \n",
        "                    callbacks=[es],\n",
        "                    verbose=1)"
      ],
      "metadata": {
        "colab": {
          "base_uri": "https://localhost:8080/"
        },
        "outputId": "2597721c-669b-42c3-effe-b366208a11d9",
        "id": "sa0j_6qhBPTP"
      },
      "execution_count": 29,
      "outputs": [
        {
          "output_type": "stream",
          "name": "stdout",
          "text": [
            "Epoch 1/200\n",
            "38/38 [==============================] - 1s 11ms/step - loss: 0.6939 - accuracy: 0.4882 - val_loss: 0.6884 - val_accuracy: 0.5000\n",
            "Epoch 2/200\n",
            "38/38 [==============================] - 0s 7ms/step - loss: 0.6958 - accuracy: 0.5034 - val_loss: 0.6906 - val_accuracy: 0.4932\n",
            "Epoch 3/200\n",
            "38/38 [==============================] - 0s 7ms/step - loss: 0.6914 - accuracy: 0.5118 - val_loss: 0.6812 - val_accuracy: 0.7365\n",
            "Epoch 4/200\n",
            "38/38 [==============================] - 0s 7ms/step - loss: 0.6690 - accuracy: 0.6077 - val_loss: 0.6177 - val_accuracy: 0.6419\n",
            "Epoch 5/200\n",
            "38/38 [==============================] - 0s 7ms/step - loss: 0.6367 - accuracy: 0.6397 - val_loss: 0.6492 - val_accuracy: 0.6284\n",
            "Epoch 6/200\n",
            "38/38 [==============================] - 0s 7ms/step - loss: 0.5872 - accuracy: 0.6852 - val_loss: 0.5378 - val_accuracy: 0.7365\n",
            "Epoch 7/200\n",
            "38/38 [==============================] - 0s 7ms/step - loss: 0.5663 - accuracy: 0.7138 - val_loss: 0.5266 - val_accuracy: 0.7365\n",
            "Epoch 8/200\n",
            "38/38 [==============================] - 0s 7ms/step - loss: 0.5580 - accuracy: 0.7189 - val_loss: 0.5573 - val_accuracy: 0.6959\n",
            "Epoch 9/200\n",
            "38/38 [==============================] - 0s 7ms/step - loss: 0.5762 - accuracy: 0.7003 - val_loss: 0.5924 - val_accuracy: 0.6959\n",
            "Epoch 10/200\n",
            "38/38 [==============================] - 0s 7ms/step - loss: 0.5574 - accuracy: 0.7104 - val_loss: 0.5351 - val_accuracy: 0.7230\n",
            "Epoch 11/200\n",
            "38/38 [==============================] - 0s 8ms/step - loss: 0.5365 - accuracy: 0.7306 - val_loss: 0.5133 - val_accuracy: 0.7432\n",
            "Epoch 12/200\n",
            "38/38 [==============================] - 0s 7ms/step - loss: 0.5556 - accuracy: 0.6953 - val_loss: 0.5097 - val_accuracy: 0.7500\n",
            "Epoch 13/200\n",
            "38/38 [==============================] - 0s 6ms/step - loss: 0.6161 - accuracy: 0.6532 - val_loss: 0.6072 - val_accuracy: 0.6622\n",
            "Epoch 14/200\n",
            "38/38 [==============================] - 0s 7ms/step - loss: 0.5560 - accuracy: 0.7054 - val_loss: 0.5050 - val_accuracy: 0.7500\n",
            "Epoch 15/200\n",
            "38/38 [==============================] - 0s 7ms/step - loss: 0.5433 - accuracy: 0.7239 - val_loss: 0.5049 - val_accuracy: 0.7432\n",
            "Epoch 16/200\n",
            "38/38 [==============================] - 0s 7ms/step - loss: 0.5313 - accuracy: 0.7374 - val_loss: 0.5011 - val_accuracy: 0.7635\n",
            "Epoch 17/200\n",
            "38/38 [==============================] - 0s 6ms/step - loss: 0.5484 - accuracy: 0.7121 - val_loss: 0.5100 - val_accuracy: 0.7635\n",
            "Epoch 18/200\n",
            "38/38 [==============================] - 0s 7ms/step - loss: 0.5327 - accuracy: 0.7306 - val_loss: 0.5549 - val_accuracy: 0.7230\n",
            "Epoch 19/200\n",
            "38/38 [==============================] - 0s 7ms/step - loss: 0.5274 - accuracy: 0.7407 - val_loss: 0.5124 - val_accuracy: 0.7568\n",
            "Epoch 20/200\n",
            "38/38 [==============================] - 0s 6ms/step - loss: 0.5237 - accuracy: 0.7391 - val_loss: 0.6907 - val_accuracy: 0.6622\n",
            "Epoch 21/200\n",
            "38/38 [==============================] - 0s 7ms/step - loss: 0.6133 - accuracy: 0.6953 - val_loss: 0.5807 - val_accuracy: 0.6757\n",
            "Epoch 22/200\n",
            "38/38 [==============================] - 0s 7ms/step - loss: 0.5800 - accuracy: 0.6886 - val_loss: 0.5187 - val_accuracy: 0.7703\n",
            "Epoch 23/200\n",
            "38/38 [==============================] - 0s 7ms/step - loss: 0.5200 - accuracy: 0.7340 - val_loss: 0.4916 - val_accuracy: 0.7635\n",
            "Epoch 24/200\n",
            "38/38 [==============================] - 0s 7ms/step - loss: 0.5097 - accuracy: 0.7391 - val_loss: 0.4903 - val_accuracy: 0.7635\n",
            "Epoch 25/200\n",
            "38/38 [==============================] - 0s 6ms/step - loss: 0.5392 - accuracy: 0.7290 - val_loss: 0.5623 - val_accuracy: 0.7095\n",
            "Epoch 26/200\n",
            "38/38 [==============================] - 0s 6ms/step - loss: 0.5482 - accuracy: 0.7256 - val_loss: 0.5332 - val_accuracy: 0.7230\n",
            "Epoch 27/200\n",
            "38/38 [==============================] - 0s 7ms/step - loss: 0.5146 - accuracy: 0.7441 - val_loss: 0.5666 - val_accuracy: 0.7162\n",
            "Epoch 28/200\n",
            "38/38 [==============================] - 0s 7ms/step - loss: 0.5186 - accuracy: 0.7407 - val_loss: 0.5904 - val_accuracy: 0.7027\n",
            "Epoch 29/200\n",
            "38/38 [==============================] - 0s 7ms/step - loss: 0.5455 - accuracy: 0.7172 - val_loss: 0.4980 - val_accuracy: 0.7568\n",
            "Epoch 30/200\n",
            "38/38 [==============================] - 0s 6ms/step - loss: 0.5187 - accuracy: 0.7374 - val_loss: 0.5076 - val_accuracy: 0.7500\n",
            "Epoch 31/200\n",
            "38/38 [==============================] - 0s 7ms/step - loss: 0.5069 - accuracy: 0.7525 - val_loss: 0.4953 - val_accuracy: 0.7838\n",
            "Epoch 32/200\n",
            "38/38 [==============================] - 0s 7ms/step - loss: 0.5166 - accuracy: 0.7357 - val_loss: 0.4917 - val_accuracy: 0.7703\n",
            "Epoch 33/200\n",
            "38/38 [==============================] - 0s 6ms/step - loss: 0.5024 - accuracy: 0.7559 - val_loss: 0.5089 - val_accuracy: 0.7500\n",
            "Epoch 34/200\n",
            "38/38 [==============================] - 0s 7ms/step - loss: 0.5000 - accuracy: 0.7475 - val_loss: 0.4898 - val_accuracy: 0.7703\n",
            "Epoch 35/200\n",
            "38/38 [==============================] - 0s 6ms/step - loss: 0.5027 - accuracy: 0.7475 - val_loss: 0.4998 - val_accuracy: 0.7838\n",
            "Epoch 36/200\n",
            "38/38 [==============================] - 0s 7ms/step - loss: 0.5358 - accuracy: 0.7323 - val_loss: 0.5287 - val_accuracy: 0.7568\n",
            "Epoch 37/200\n",
            "38/38 [==============================] - 0s 7ms/step - loss: 0.4948 - accuracy: 0.7525 - val_loss: 0.4854 - val_accuracy: 0.7703\n",
            "Epoch 38/200\n",
            "38/38 [==============================] - 0s 6ms/step - loss: 0.4888 - accuracy: 0.7660 - val_loss: 0.5188 - val_accuracy: 0.7568\n",
            "Epoch 39/200\n",
            "38/38 [==============================] - 0s 6ms/step - loss: 0.4943 - accuracy: 0.7407 - val_loss: 0.4867 - val_accuracy: 0.7635\n",
            "Epoch 40/200\n",
            "38/38 [==============================] - 0s 7ms/step - loss: 0.5033 - accuracy: 0.7357 - val_loss: 0.4897 - val_accuracy: 0.7905\n",
            "Epoch 41/200\n",
            "38/38 [==============================] - 0s 6ms/step - loss: 0.5064 - accuracy: 0.7374 - val_loss: 0.5000 - val_accuracy: 0.7703\n",
            "Epoch 42/200\n",
            "38/38 [==============================] - 0s 7ms/step - loss: 0.4822 - accuracy: 0.7559 - val_loss: 0.4784 - val_accuracy: 0.7770\n",
            "Epoch 43/200\n",
            "38/38 [==============================] - 0s 7ms/step - loss: 0.4860 - accuracy: 0.7609 - val_loss: 0.4790 - val_accuracy: 0.7905\n",
            "Epoch 44/200\n",
            "38/38 [==============================] - 0s 7ms/step - loss: 0.4825 - accuracy: 0.7593 - val_loss: 0.6093 - val_accuracy: 0.7027\n",
            "Epoch 45/200\n",
            "38/38 [==============================] - 0s 6ms/step - loss: 0.4789 - accuracy: 0.7458 - val_loss: 0.5808 - val_accuracy: 0.7297\n",
            "Epoch 46/200\n",
            "38/38 [==============================] - 0s 7ms/step - loss: 0.4927 - accuracy: 0.7374 - val_loss: 0.4744 - val_accuracy: 0.7838\n",
            "Epoch 47/200\n",
            "38/38 [==============================] - 0s 7ms/step - loss: 0.5029 - accuracy: 0.7374 - val_loss: 0.6775 - val_accuracy: 0.6892\n",
            "Epoch 48/200\n",
            "38/38 [==============================] - 0s 6ms/step - loss: 0.5468 - accuracy: 0.7189 - val_loss: 0.4905 - val_accuracy: 0.7568\n",
            "Epoch 49/200\n",
            "38/38 [==============================] - 0s 7ms/step - loss: 0.4722 - accuracy: 0.7660 - val_loss: 0.5348 - val_accuracy: 0.7568\n",
            "Epoch 50/200\n",
            "38/38 [==============================] - 0s 6ms/step - loss: 0.4714 - accuracy: 0.7525 - val_loss: 0.5789 - val_accuracy: 0.7365\n",
            "Epoch 51/200\n",
            "38/38 [==============================] - 0s 7ms/step - loss: 0.4906 - accuracy: 0.7593 - val_loss: 0.4810 - val_accuracy: 0.7635\n",
            "Epoch 52/200\n",
            "38/38 [==============================] - 0s 7ms/step - loss: 0.4507 - accuracy: 0.7609 - val_loss: 0.4633 - val_accuracy: 0.7770\n",
            "Epoch 53/200\n",
            "38/38 [==============================] - 0s 6ms/step - loss: 0.4563 - accuracy: 0.7609 - val_loss: 0.4819 - val_accuracy: 0.8041\n",
            "Epoch 54/200\n",
            "38/38 [==============================] - 0s 7ms/step - loss: 0.4413 - accuracy: 0.7677 - val_loss: 0.4632 - val_accuracy: 0.7905\n",
            "Epoch 55/200\n",
            "38/38 [==============================] - 0s 6ms/step - loss: 0.4527 - accuracy: 0.7508 - val_loss: 0.5550 - val_accuracy: 0.7500\n",
            "Epoch 56/200\n",
            "38/38 [==============================] - 0s 6ms/step - loss: 0.6895 - accuracy: 0.6397 - val_loss: 0.5530 - val_accuracy: 0.7568\n",
            "Epoch 57/200\n",
            "38/38 [==============================] - 0s 6ms/step - loss: 0.5849 - accuracy: 0.6987 - val_loss: 0.5541 - val_accuracy: 0.7297\n",
            "Epoch 58/200\n",
            "38/38 [==============================] - 0s 7ms/step - loss: 0.5622 - accuracy: 0.7239 - val_loss: 0.6006 - val_accuracy: 0.7027\n",
            "Epoch 59/200\n",
            "38/38 [==============================] - 0s 6ms/step - loss: 0.5696 - accuracy: 0.7121 - val_loss: 0.5547 - val_accuracy: 0.7230\n",
            "Epoch 60/200\n",
            "38/38 [==============================] - 0s 7ms/step - loss: 0.5436 - accuracy: 0.7273 - val_loss: 0.5176 - val_accuracy: 0.7703\n",
            "Epoch 61/200\n",
            "38/38 [==============================] - 0s 6ms/step - loss: 0.5481 - accuracy: 0.7290 - val_loss: 0.5154 - val_accuracy: 0.7703\n",
            "Epoch 62/200\n",
            "38/38 [==============================] - 0s 6ms/step - loss: 0.5356 - accuracy: 0.7290 - val_loss: 0.5133 - val_accuracy: 0.7635\n",
            "Epoch 63/200\n",
            "38/38 [==============================] - 0s 6ms/step - loss: 0.5415 - accuracy: 0.7306 - val_loss: 0.5275 - val_accuracy: 0.7432\n",
            "Epoch 64/200\n",
            "38/38 [==============================] - 0s 6ms/step - loss: 0.5242 - accuracy: 0.7273 - val_loss: 0.4853 - val_accuracy: 0.7770\n",
            "Epoch 65/200\n",
            "38/38 [==============================] - 0s 6ms/step - loss: 0.5135 - accuracy: 0.7172 - val_loss: 0.4881 - val_accuracy: 0.7568\n",
            "Epoch 66/200\n",
            "38/38 [==============================] - 0s 7ms/step - loss: 0.4987 - accuracy: 0.7407 - val_loss: 0.4671 - val_accuracy: 0.7703\n",
            "Epoch 67/200\n",
            "38/38 [==============================] - 0s 7ms/step - loss: 0.4667 - accuracy: 0.7593 - val_loss: 0.5702 - val_accuracy: 0.7365\n",
            "Epoch 68/200\n",
            "38/38 [==============================] - 0s 8ms/step - loss: 0.4603 - accuracy: 0.7593 - val_loss: 0.4564 - val_accuracy: 0.7838\n",
            "Epoch 69/200\n",
            "38/38 [==============================] - 0s 7ms/step - loss: 0.4846 - accuracy: 0.7525 - val_loss: 0.5408 - val_accuracy: 0.7297\n",
            "Epoch 70/200\n",
            "38/38 [==============================] - 0s 7ms/step - loss: 0.5180 - accuracy: 0.7121 - val_loss: 0.5393 - val_accuracy: 0.7770\n",
            "Epoch 71/200\n",
            "38/38 [==============================] - 0s 7ms/step - loss: 0.4715 - accuracy: 0.7542 - val_loss: 0.4630 - val_accuracy: 0.7838\n",
            "Epoch 72/200\n",
            "38/38 [==============================] - 0s 7ms/step - loss: 0.4507 - accuracy: 0.7609 - val_loss: 0.5676 - val_accuracy: 0.7297\n",
            "Epoch 73/200\n",
            "38/38 [==============================] - 0s 6ms/step - loss: 0.4841 - accuracy: 0.7475 - val_loss: 0.4832 - val_accuracy: 0.7500\n",
            "Epoch 74/200\n",
            "38/38 [==============================] - 0s 7ms/step - loss: 0.4523 - accuracy: 0.7694 - val_loss: 0.4528 - val_accuracy: 0.7905\n",
            "Epoch 75/200\n",
            "38/38 [==============================] - 0s 6ms/step - loss: 0.4355 - accuracy: 0.7710 - val_loss: 0.4766 - val_accuracy: 0.7703\n",
            "Epoch 76/200\n",
            "38/38 [==============================] - 0s 6ms/step - loss: 0.4679 - accuracy: 0.7391 - val_loss: 0.5152 - val_accuracy: 0.7635\n",
            "Epoch 77/200\n",
            "38/38 [==============================] - 0s 6ms/step - loss: 0.4804 - accuracy: 0.7508 - val_loss: 0.5546 - val_accuracy: 0.7027\n",
            "Epoch 78/200\n",
            "38/38 [==============================] - 0s 6ms/step - loss: 0.4850 - accuracy: 0.7374 - val_loss: 0.4560 - val_accuracy: 0.7635\n",
            "Epoch 79/200\n",
            "38/38 [==============================] - 0s 6ms/step - loss: 0.4616 - accuracy: 0.7508 - val_loss: 0.4631 - val_accuracy: 0.7838\n",
            "Epoch 80/200\n",
            "38/38 [==============================] - 0s 6ms/step - loss: 0.4639 - accuracy: 0.7458 - val_loss: 0.4734 - val_accuracy: 0.7838\n",
            "Epoch 81/200\n",
            "38/38 [==============================] - 0s 6ms/step - loss: 0.4470 - accuracy: 0.7559 - val_loss: 0.4661 - val_accuracy: 0.7703\n",
            "Epoch 82/200\n",
            "38/38 [==============================] - 0s 6ms/step - loss: 0.4423 - accuracy: 0.7660 - val_loss: 0.4976 - val_accuracy: 0.7703\n",
            "Epoch 83/200\n",
            "38/38 [==============================] - 0s 7ms/step - loss: 0.4449 - accuracy: 0.7694 - val_loss: 0.4549 - val_accuracy: 0.7905\n",
            "Epoch 84/200\n",
            "38/38 [==============================] - 0s 6ms/step - loss: 0.4265 - accuracy: 0.7643 - val_loss: 0.4608 - val_accuracy: 0.7838\n",
            "Epoch 85/200\n",
            "38/38 [==============================] - 0s 6ms/step - loss: 0.4641 - accuracy: 0.7306 - val_loss: 0.4606 - val_accuracy: 0.7905\n",
            "Epoch 86/200\n",
            "38/38 [==============================] - 0s 7ms/step - loss: 0.4438 - accuracy: 0.7525 - val_loss: 0.4707 - val_accuracy: 0.7838\n",
            "Epoch 87/200\n",
            "38/38 [==============================] - 0s 6ms/step - loss: 0.4215 - accuracy: 0.7694 - val_loss: 0.4624 - val_accuracy: 0.7838\n",
            "Epoch 88/200\n",
            "38/38 [==============================] - 0s 6ms/step - loss: 0.4243 - accuracy: 0.7744 - val_loss: 0.4943 - val_accuracy: 0.7703\n",
            "Epoch 89/200\n",
            "38/38 [==============================] - 0s 6ms/step - loss: 0.6219 - accuracy: 0.7037 - val_loss: 0.5203 - val_accuracy: 0.7703\n",
            "Epoch 90/200\n",
            "38/38 [==============================] - 0s 7ms/step - loss: 0.5253 - accuracy: 0.7374 - val_loss: 0.5211 - val_accuracy: 0.7703\n",
            "Epoch 91/200\n",
            "38/38 [==============================] - 0s 7ms/step - loss: 0.5205 - accuracy: 0.7458 - val_loss: 0.5449 - val_accuracy: 0.7432\n",
            "Epoch 92/200\n",
            "38/38 [==============================] - 0s 9ms/step - loss: 0.5322 - accuracy: 0.7273 - val_loss: 0.5187 - val_accuracy: 0.7703\n",
            "Epoch 93/200\n",
            "38/38 [==============================] - 0s 10ms/step - loss: 0.5195 - accuracy: 0.7391 - val_loss: 0.5538 - val_accuracy: 0.7500\n",
            "Epoch 94/200\n",
            "38/38 [==============================] - 0s 9ms/step - loss: 0.5445 - accuracy: 0.7273 - val_loss: 0.5922 - val_accuracy: 0.7162\n",
            "Epoch 95/200\n",
            "38/38 [==============================] - 0s 9ms/step - loss: 0.5284 - accuracy: 0.7273 - val_loss: 0.5068 - val_accuracy: 0.7500\n",
            "Epoch 96/200\n",
            "38/38 [==============================] - 0s 8ms/step - loss: 0.5290 - accuracy: 0.7374 - val_loss: 0.5203 - val_accuracy: 0.7500\n",
            "Epoch 97/200\n",
            "38/38 [==============================] - 0s 9ms/step - loss: 0.5106 - accuracy: 0.7508 - val_loss: 0.5051 - val_accuracy: 0.7568\n",
            "Epoch 98/200\n",
            "38/38 [==============================] - 0s 7ms/step - loss: 0.5121 - accuracy: 0.7391 - val_loss: 0.5147 - val_accuracy: 0.7770\n",
            "Epoch 99/200\n",
            "38/38 [==============================] - 0s 6ms/step - loss: 0.5326 - accuracy: 0.7273 - val_loss: 0.5194 - val_accuracy: 0.7635\n",
            "Epoch 100/200\n",
            "38/38 [==============================] - 0s 7ms/step - loss: 0.5053 - accuracy: 0.7492 - val_loss: 0.5051 - val_accuracy: 0.7838\n",
            "Epoch 101/200\n",
            "38/38 [==============================] - 0s 7ms/step - loss: 0.5036 - accuracy: 0.7475 - val_loss: 0.5669 - val_accuracy: 0.7230\n",
            "Epoch 102/200\n",
            "38/38 [==============================] - 0s 7ms/step - loss: 0.5039 - accuracy: 0.7424 - val_loss: 0.5043 - val_accuracy: 0.7770\n",
            "Epoch 103/200\n",
            "38/38 [==============================] - 0s 7ms/step - loss: 0.4868 - accuracy: 0.7391 - val_loss: 0.4945 - val_accuracy: 0.7703\n",
            "Epoch 104/200\n",
            "38/38 [==============================] - 0s 7ms/step - loss: 0.4280 - accuracy: 0.7710 - val_loss: 0.5093 - val_accuracy: 0.7905\n"
          ]
        }
      ],
      "id": "sa0j_6qhBPTP"
    },
    {
      "cell_type": "markdown",
      "source": [
        "CNN Less conv2d complexity"
      ],
      "metadata": {
        "id": "1R3Wx_qyry-G"
      },
      "id": "1R3Wx_qyry-G"
    },
    {
      "cell_type": "code",
      "source": [
        "plot_history(history);"
      ],
      "metadata": {
        "colab": {
          "base_uri": "https://localhost:8080/",
          "height": 281
        },
        "id": "PgB0_cuJmAZL",
        "outputId": "44c23914-debc-45e1-cfc2-61468a4223cd"
      },
      "id": "PgB0_cuJmAZL",
      "execution_count": 55,
      "outputs": [
        {
          "output_type": "display_data",
          "data": {
            "text/plain": [
              "<Figure size 864x288 with 2 Axes>"
            ],
            "image/png": "[encoded data removed]"
          },
          "metadata": {
            "needs_background": "light"
          }
        }
      ]
    },
    {
      "cell_type": "code",
      "source": [
        "plot_history(history);"
      ],
      "metadata": {
        "colab": {
          "base_uri": "https://localhost:8080/",
          "height": 281
        },
        "id": "LAvRmxhDmYFf",
        "outputId": "a5aa530a-34d1-4424-e9a7-b3a67fc8271c"
      },
      "id": "LAvRmxhDmYFf",
      "execution_count": 61,
      "outputs": [
        {
          "output_type": "display_data",
          "data": {
            "text/plain": [
              "<Figure size 864x288 with 2 Axes>"
            ],
            "image/png": "[encoded data removed]"
          },
          "metadata": {
            "needs_background": "light"
          }
        }
      ]
    },
    {
      "cell_type": "markdown",
      "source": [
        "Simple four dense hidden layers 64 neurons\n",
        "- adam learning rate = 0.0003\n",
        "- batch_size = 16\n",
        "- patience = 30"
      ],
      "metadata": {
        "id": "GVMgK5iEq4IC"
      },
      "id": "GVMgK5iEq4IC"
    },
    {
      "cell_type": "code",
      "source": [
        "plot_history(history);"
      ],
      "metadata": {
        "colab": {
          "base_uri": "https://localhost:8080/",
          "height": 281
        },
        "id": "bTuG8uhEoXNh",
        "outputId": "658143fd-b4e7-472f-d8cb-c0c4833431d7"
      },
      "id": "bTuG8uhEoXNh",
      "execution_count": 30,
      "outputs": [
        {
          "output_type": "display_data",
          "data": {
            "text/plain": [
              "<Figure size 864x288 with 2 Axes>"
            ],
            "image/png": "[encoded data removed]"
          },
          "metadata": {
            "needs_background": "light"
          }
        }
      ]
    },
    {
      "cell_type": "code",
      "source": [
        ""
      ],
      "metadata": {
        "id": "lxJm3v5xpdJU"
      },
      "id": "lxJm3v5xpdJU",
      "execution_count": null,
      "outputs": []
    }
  ],
  "metadata": {
    "kernelspec": {
      "display_name": "Python 3 (ipykernel)",
      "language": "python",
      "name": "python3"
    },
    "language_info": {
      "codemirror_mode": {
        "name": "ipython",
        "version": 3
      },
      "file_extension": ".py",
      "mimetype": "text/x-python",
      "name": "python",
      "nbconvert_exporter": "python",
      "pygments_lexer": "ipython3",
      "version": "3.8.12"
    },
    "toc": {
      "base_numbering": 1,
      "nav_menu": {},
      "number_sections": true,
      "sideBar": true,
      "skip_h1_title": false,
      "title_cell": "Table of Contents",
      "title_sidebar": "Contents",
      "toc_cell": false,
      "toc_position": {},
      "toc_section_display": true,
      "toc_window_display": false
    },
    "varInspector": {
      "cols": {
        "lenName": 16,
        "lenType": 16,
        "lenVar": 40
      },
      "kernels_config": {
        "python": {
          "delete_cmd_postfix": "",
          "delete_cmd_prefix": "del ",
          "library": "var_list.py",
          "varRefreshCmd": "print(var_dic_list())"
        },
        "r": {
          "delete_cmd_postfix": ") ",
          "delete_cmd_prefix": "rm(",
          "library": "var_list.r",
          "varRefreshCmd": "cat(var_dic_list()) "
        }
      },
      "position": {
        "height": "403.835px",
        "left": "1019.82px",
        "right": "20px",
        "top": "120px",
        "width": "342.003px"
      },
      "types_to_exclude": [
        "module",
        "function",
        "builtin_function_or_method",
        "instance",
        "_Feature"
      ],
      "window_display": false
    },
    "colab": {
      "name": "abdielrt_baseline_model.ipynb",
      "provenance": [],
      "toc_visible": true,
      "collapsed_sections": []
    },
    "accelerator": "GPU",
    "gpuClass": "standard"
  },
  "nbformat": 4,
  "nbformat_minor": 5
}