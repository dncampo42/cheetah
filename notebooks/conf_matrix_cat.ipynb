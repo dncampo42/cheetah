{
 "cells": [
  {
   "cell_type": "code",
   "execution_count": 88,
   "id": "7711abb1",
   "metadata": {
    "ExecuteTime": {
     "end_time": "2022-06-23T17:10:13.064533Z",
     "start_time": "2022-06-23T17:10:13.054826Z"
    }
   },
   "outputs": [],
   "source": [
    "from sklearn.metrics import ConfusionMatrixDisplay, accuracy_score\n",
    "import matplotlib.pyplot as plt"
   ]
  },
  {
   "cell_type": "code",
   "execution_count": 61,
   "id": "cd4eea54",
   "metadata": {
    "ExecuteTime": {
     "end_time": "2022-06-23T16:00:22.525055Z",
     "start_time": "2022-06-23T16:00:22.505649Z"
    }
   },
   "outputs": [],
   "source": [
    "from cheetah.multiclass.data import multiclass_balancer, get_augmented_and_test\n",
    "from cheetah import data\n",
    "from cheetah.params import *\n",
    "from cheetah.mlflow import MLFlowBase\n",
    "from cheetah.multiclass.pipeline import prepare_dataset, tf_train_val_split\n",
    "from cheetah.utils import configure_for_performance"
   ]
  },
  {
   "cell_type": "code",
   "execution_count": 62,
   "id": "6b133c6f",
   "metadata": {
    "ExecuteTime": {
     "end_time": "2022-06-23T16:00:23.278932Z",
     "start_time": "2022-06-23T16:00:23.270511Z"
    }
   },
   "outputs": [],
   "source": [
    "import tensorflow.keras.models as tfkm"
   ]
  },
  {
   "cell_type": "code",
   "execution_count": 91,
   "id": "7e16808b",
   "metadata": {
    "ExecuteTime": {
     "end_time": "2022-06-23T17:21:18.772984Z",
     "start_time": "2022-06-23T17:20:58.791860Z"
    }
   },
   "outputs": [
    {
     "name": "stdout",
     "output_type": "stream",
     "text": [
      "loading model: \n"
     ]
    }
   ],
   "source": [
    "def load_model():\n",
    "    print(\"loading model: \")\n",
    "#    if not 'model' in globals():\n",
    "    #json_file = open(os.path.join('models', 'model_architecture.json'), 'r')\n",
    "    #json_savedModel= json_file.read()\n",
    "    #return tfkm.model_from_json(json_savedModel)\n",
    "    model = tfkm.load_model('/home/noname/code/dncampo42/cheetah/models/ResNet50_multiclass_20220623_121940.h5')\n",
    "    return model\n",
    "\n",
    "#pre trained model to do predictions\n",
    "\n",
    "model = load_model()"
   ]
  },
  {
   "cell_type": "code",
   "execution_count": 64,
   "id": "6fceb7d5",
   "metadata": {
    "ExecuteTime": {
     "end_time": "2022-06-23T16:00:50.629154Z",
     "start_time": "2022-06-23T16:00:50.480999Z"
    }
   },
   "outputs": [
    {
     "name": "stdout",
     "output_type": "stream",
     "text": [
      "Model: \"model\"\n",
      "_________________________________________________________________\n",
      " Layer (type)                Output Shape              Param #   \n",
      "=================================================================\n",
      " input_2 (InputLayer)        [(None, 90, 120, 3)]      0         \n",
      "                                                                 \n",
      " resnet50 (Functional)       (None, 3, 4, 2048)        23587712  \n",
      "                                                                 \n",
      " global_average_pooling2d (G  (None, 2048)             0         \n",
      " lobalAveragePooling2D)                                          \n",
      "                                                                 \n",
      " dense (Dense)               (None, 7)                 14343     \n",
      "                                                                 \n",
      "=================================================================\n",
      "Total params: 23,602,055\n",
      "Trainable params: 23,548,935\n",
      "Non-trainable params: 53,120\n",
      "_________________________________________________________________\n"
     ]
    }
   ],
   "source": [
    "model.summary()"
   ]
  },
  {
   "cell_type": "code",
   "execution_count": 65,
   "id": "dd04d683",
   "metadata": {
    "ExecuteTime": {
     "end_time": "2022-06-23T16:00:52.628876Z",
     "start_time": "2022-06-23T16:00:51.239293Z"
    }
   },
   "outputs": [],
   "source": [
    "# load original data and get corresponding image paths\n",
    "\n",
    "df = data.get_data()\n",
    "df = data.path_to_metadata(df)\n",
    "# load multiclass augmented images and prepare test list\n",
    "aug_test_dict = get_augmented_and_test()\n",
    "\n",
    "# balance classes + augmented classes images\n",
    "train_df, test_df = multiclass_balancer(df, aug_test_dict,\n",
    "                                        class_size=2000)\n",
    "\n",
    "# prepare train_val and test dataset with extracted images and labels\n",
    "test_ds = prepare_dataset(test_df)"
   ]
  },
  {
   "cell_type": "code",
   "execution_count": 67,
   "id": "e53c4596",
   "metadata": {
    "ExecuteTime": {
     "end_time": "2022-06-23T16:00:57.817608Z",
     "start_time": "2022-06-23T16:00:57.773642Z"
    }
   },
   "outputs": [
    {
     "data": {
      "text/html": [
       "<div>\n",
       "<style scoped>\n",
       "    .dataframe tbody tr th:only-of-type {\n",
       "        vertical-align: middle;\n",
       "    }\n",
       "\n",
       "    .dataframe tbody tr th {\n",
       "        vertical-align: top;\n",
       "    }\n",
       "\n",
       "    .dataframe thead th {\n",
       "        text-align: right;\n",
       "    }\n",
       "</style>\n",
       "<table border=\"1\" class=\"dataframe\">\n",
       "  <thead>\n",
       "    <tr style=\"text-align: right;\">\n",
       "      <th></th>\n",
       "      <th>lesion_id</th>\n",
       "      <th>image_id</th>\n",
       "      <th>dx</th>\n",
       "      <th>dx_type</th>\n",
       "      <th>age</th>\n",
       "      <th>sex</th>\n",
       "      <th>localization</th>\n",
       "      <th>path</th>\n",
       "    </tr>\n",
       "  </thead>\n",
       "  <tbody>\n",
       "    <tr>\n",
       "      <th>0</th>\n",
       "      <td>HAM_0000720</td>\n",
       "      <td>ISIC_0028926</td>\n",
       "      <td>df</td>\n",
       "      <td>histo</td>\n",
       "      <td>65.0</td>\n",
       "      <td>male</td>\n",
       "      <td>upper extremity</td>\n",
       "      <td>raw_data/HAM10000_images_part_1/ISIC_0028926.jpg</td>\n",
       "    </tr>\n",
       "    <tr>\n",
       "      <th>1</th>\n",
       "      <td>HAM_0002895</td>\n",
       "      <td>ISIC_0029578</td>\n",
       "      <td>df</td>\n",
       "      <td>histo</td>\n",
       "      <td>60.0</td>\n",
       "      <td>male</td>\n",
       "      <td>lower extremity</td>\n",
       "      <td>raw_data/HAM10000_images_part_2/ISIC_0029578.jpg</td>\n",
       "    </tr>\n",
       "    <tr>\n",
       "      <th>2</th>\n",
       "      <td>HAM_0005983</td>\n",
       "      <td>ISIC_0025594</td>\n",
       "      <td>df</td>\n",
       "      <td>consensus</td>\n",
       "      <td>65.0</td>\n",
       "      <td>female</td>\n",
       "      <td>lower extremity</td>\n",
       "      <td>raw_data/HAM10000_images_part_1/ISIC_0025594.jpg</td>\n",
       "    </tr>\n",
       "    <tr>\n",
       "      <th>3</th>\n",
       "      <td>HAM_0006816</td>\n",
       "      <td>ISIC_0026254</td>\n",
       "      <td>df</td>\n",
       "      <td>consensus</td>\n",
       "      <td>45.0</td>\n",
       "      <td>male</td>\n",
       "      <td>lower extremity</td>\n",
       "      <td>raw_data/HAM10000_images_part_1/ISIC_0026254.jpg</td>\n",
       "    </tr>\n",
       "    <tr>\n",
       "      <th>4</th>\n",
       "      <td>HAM_0002129</td>\n",
       "      <td>ISIC_0025903</td>\n",
       "      <td>df</td>\n",
       "      <td>consensus</td>\n",
       "      <td>60.0</td>\n",
       "      <td>male</td>\n",
       "      <td>abdomen</td>\n",
       "      <td>raw_data/HAM10000_images_part_1/ISIC_0025903.jpg</td>\n",
       "    </tr>\n",
       "    <tr>\n",
       "      <th>5</th>\n",
       "      <td>HAM_0004496</td>\n",
       "      <td>ISIC_0028651</td>\n",
       "      <td>df</td>\n",
       "      <td>consensus</td>\n",
       "      <td>55.0</td>\n",
       "      <td>female</td>\n",
       "      <td>lower extremity</td>\n",
       "      <td>raw_data/HAM10000_images_part_1/ISIC_0028651.jpg</td>\n",
       "    </tr>\n",
       "    <tr>\n",
       "      <th>6</th>\n",
       "      <td>HAM_0002848</td>\n",
       "      <td>ISIC_0027598</td>\n",
       "      <td>df</td>\n",
       "      <td>consensus</td>\n",
       "      <td>60.0</td>\n",
       "      <td>female</td>\n",
       "      <td>lower extremity</td>\n",
       "      <td>raw_data/HAM10000_images_part_1/ISIC_0027598.jpg</td>\n",
       "    </tr>\n",
       "    <tr>\n",
       "      <th>7</th>\n",
       "      <td>HAM_0000049</td>\n",
       "      <td>ISIC_0029130</td>\n",
       "      <td>df</td>\n",
       "      <td>consensus</td>\n",
       "      <td>70.0</td>\n",
       "      <td>male</td>\n",
       "      <td>lower extremity</td>\n",
       "      <td>raw_data/HAM10000_images_part_1/ISIC_0029130.jpg</td>\n",
       "    </tr>\n",
       "    <tr>\n",
       "      <th>8</th>\n",
       "      <td>HAM_0007569</td>\n",
       "      <td>ISIC_0025373</td>\n",
       "      <td>df</td>\n",
       "      <td>consensus</td>\n",
       "      <td>35.0</td>\n",
       "      <td>female</td>\n",
       "      <td>lower extremity</td>\n",
       "      <td>raw_data/HAM10000_images_part_1/ISIC_0025373.jpg</td>\n",
       "    </tr>\n",
       "    <tr>\n",
       "      <th>9</th>\n",
       "      <td>HAM_0006707</td>\n",
       "      <td>ISIC_0030870</td>\n",
       "      <td>df</td>\n",
       "      <td>consensus</td>\n",
       "      <td>45.0</td>\n",
       "      <td>female</td>\n",
       "      <td>lower extremity</td>\n",
       "      <td>raw_data/HAM10000_images_part_2/ISIC_0030870.jpg</td>\n",
       "    </tr>\n",
       "    <tr>\n",
       "      <th>10</th>\n",
       "      <td>HAM_0002153</td>\n",
       "      <td>ISIC_0029297</td>\n",
       "      <td>df</td>\n",
       "      <td>consensus</td>\n",
       "      <td>40.0</td>\n",
       "      <td>female</td>\n",
       "      <td>lower extremity</td>\n",
       "      <td>raw_data/HAM10000_images_part_1/ISIC_0029297.jpg</td>\n",
       "    </tr>\n",
       "  </tbody>\n",
       "</table>\n",
       "</div>"
      ],
      "text/plain": [
       "      lesion_id      image_id  dx    dx_type   age     sex     localization  \\\n",
       "0   HAM_0000720  ISIC_0028926  df      histo  65.0    male  upper extremity   \n",
       "1   HAM_0002895  ISIC_0029578  df      histo  60.0    male  lower extremity   \n",
       "2   HAM_0005983  ISIC_0025594  df  consensus  65.0  female  lower extremity   \n",
       "3   HAM_0006816  ISIC_0026254  df  consensus  45.0    male  lower extremity   \n",
       "4   HAM_0002129  ISIC_0025903  df  consensus  60.0    male          abdomen   \n",
       "5   HAM_0004496  ISIC_0028651  df  consensus  55.0  female  lower extremity   \n",
       "6   HAM_0002848  ISIC_0027598  df  consensus  60.0  female  lower extremity   \n",
       "7   HAM_0000049  ISIC_0029130  df  consensus  70.0    male  lower extremity   \n",
       "8   HAM_0007569  ISIC_0025373  df  consensus  35.0  female  lower extremity   \n",
       "9   HAM_0006707  ISIC_0030870  df  consensus  45.0  female  lower extremity   \n",
       "10  HAM_0002153  ISIC_0029297  df  consensus  40.0  female  lower extremity   \n",
       "\n",
       "                                                path  \n",
       "0   raw_data/HAM10000_images_part_1/ISIC_0028926.jpg  \n",
       "1   raw_data/HAM10000_images_part_2/ISIC_0029578.jpg  \n",
       "2   raw_data/HAM10000_images_part_1/ISIC_0025594.jpg  \n",
       "3   raw_data/HAM10000_images_part_1/ISIC_0026254.jpg  \n",
       "4   raw_data/HAM10000_images_part_1/ISIC_0025903.jpg  \n",
       "5   raw_data/HAM10000_images_part_1/ISIC_0028651.jpg  \n",
       "6   raw_data/HAM10000_images_part_1/ISIC_0027598.jpg  \n",
       "7   raw_data/HAM10000_images_part_1/ISIC_0029130.jpg  \n",
       "8   raw_data/HAM10000_images_part_1/ISIC_0025373.jpg  \n",
       "9   raw_data/HAM10000_images_part_2/ISIC_0030870.jpg  \n",
       "10  raw_data/HAM10000_images_part_1/ISIC_0029297.jpg  "
      ]
     },
     "execution_count": 67,
     "metadata": {},
     "output_type": "execute_result"
    }
   ],
   "source": [
    "aug_test_dict['test_df_df']"
   ]
  },
  {
   "cell_type": "code",
   "execution_count": 68,
   "id": "ea6b1494",
   "metadata": {
    "ExecuteTime": {
     "end_time": "2022-06-23T16:01:00.066035Z",
     "start_time": "2022-06-23T16:01:00.006154Z"
    }
   },
   "outputs": [],
   "source": [
    "test = configure_for_performance(test_ds)"
   ]
  },
  {
   "cell_type": "code",
   "execution_count": 69,
   "id": "6a3bc7ce",
   "metadata": {
    "ExecuteTime": {
     "end_time": "2022-06-23T16:01:03.672953Z",
     "start_time": "2022-06-23T16:01:03.235426Z"
    }
   },
   "outputs": [
    {
     "name": "stderr",
     "output_type": "stream",
     "text": [
      "2022-06-23 18:01:03.658269: W tensorflow/core/kernels/data/cache_dataset_ops.cc:768] The calling iterator did not fully read the dataset being cached. In order to avoid unexpected truncation of the dataset, the partially cached contents of the dataset  will be discarded. This can happen if you have an input pipeline similar to `dataset.cache().take(k).repeat()`. You should use `dataset.take(k).cache().repeat()` instead.\n"
     ]
    },
    {
     "data": {
      "text/plain": [
       "(<tf.Tensor: shape=(32, 90, 120, 3), dtype=uint8, numpy=\n",
       " array([[[[212, 163, 159],\n",
       "          [216, 171, 165],\n",
       "          [222, 179, 173],\n",
       "          ...,\n",
       "          [228, 190, 189],\n",
       "          [228, 191, 185],\n",
       "          [224, 190, 181]],\n",
       " \n",
       "         [[221, 171, 170],\n",
       "          [222, 177, 172],\n",
       "          [221, 179, 180],\n",
       "          ...,\n",
       "          [227, 190, 181],\n",
       "          [229, 182, 176],\n",
       "          [228, 183, 177]],\n",
       " \n",
       "         [[221, 179, 180],\n",
       "          [223, 183, 183],\n",
       "          [223, 183, 184],\n",
       "          ...,\n",
       "          [227, 179, 175],\n",
       "          [225, 178, 172],\n",
       "          [224, 180, 169]],\n",
       " \n",
       "         ...,\n",
       " \n",
       "         [[221, 172, 168],\n",
       "          [223, 176, 170],\n",
       "          [221, 173, 169],\n",
       "          ...,\n",
       "          [222, 175, 167],\n",
       "          [223, 183, 173],\n",
       "          [226, 193, 188]],\n",
       " \n",
       "         [[224, 176, 172],\n",
       "          [221, 172, 165],\n",
       "          [223, 178, 172],\n",
       "          ...,\n",
       "          [223, 179, 168],\n",
       "          [226, 183, 174],\n",
       "          [225, 192, 187]],\n",
       " \n",
       "         [[222, 177, 171],\n",
       "          [223, 176, 170],\n",
       "          [223, 180, 173],\n",
       "          ...,\n",
       "          [230, 183, 173],\n",
       "          [226, 189, 180],\n",
       "          [224, 190, 181]]],\n",
       " \n",
       " \n",
       "        [[[173, 144, 126],\n",
       "          [172, 142, 134],\n",
       "          [180, 155, 148],\n",
       "          ...,\n",
       "          [194, 159, 140],\n",
       "          [196, 166, 156],\n",
       "          [202, 173, 157]],\n",
       " \n",
       "         [[179, 156, 140],\n",
       "          [182, 160, 147],\n",
       "          [184, 165, 150],\n",
       "          ...,\n",
       "          [189, 156, 137],\n",
       "          [203, 173, 163],\n",
       "          [193, 159, 147]],\n",
       " \n",
       "         [[182, 163, 148],\n",
       "          [183, 164, 150],\n",
       "          [185, 162, 154],\n",
       "          ...,\n",
       "          [199, 158, 154],\n",
       "          [186, 157, 149],\n",
       "          [192, 160, 147]],\n",
       " \n",
       "         ...,\n",
       " \n",
       "         [[201, 178, 164],\n",
       "          [191, 169, 158],\n",
       "          [211, 191, 180],\n",
       "          ...,\n",
       "          [222, 204, 200],\n",
       "          [217, 188, 180],\n",
       "          [224, 200, 196]],\n",
       " \n",
       "         [[185, 158, 147],\n",
       "          [184, 156, 153],\n",
       "          [195, 170, 166],\n",
       "          ...,\n",
       "          [230, 210, 211],\n",
       "          [229, 210, 204],\n",
       "          [226, 206, 208]],\n",
       " \n",
       "         [[178, 144, 143],\n",
       "          [182, 154, 143],\n",
       "          [189, 162, 155],\n",
       "          ...,\n",
       "          [225, 206, 199],\n",
       "          [231, 210, 215],\n",
       "          [229, 211, 211]]],\n",
       " \n",
       " \n",
       "        [[[173, 142, 148],\n",
       "          [169, 139, 141],\n",
       "          [175, 145, 145],\n",
       "          ...,\n",
       "          [154, 109, 104],\n",
       "          [160, 114,  98],\n",
       "          [164, 127, 121]],\n",
       " \n",
       "         [[183, 153, 163],\n",
       "          [179, 150, 155],\n",
       "          [165, 135, 137],\n",
       "          ...,\n",
       "          [151, 116, 114],\n",
       "          [156, 112, 101],\n",
       "          [167, 130, 124]],\n",
       " \n",
       "         [[181, 154, 159],\n",
       "          [181, 154, 161],\n",
       "          [179, 153, 156],\n",
       "          ...,\n",
       "          [169, 138, 136],\n",
       "          [160, 129, 126],\n",
       "          [165, 134, 131]],\n",
       " \n",
       "         ...,\n",
       " \n",
       "         [[172, 143, 147],\n",
       "          [169, 139, 137],\n",
       "          [171, 133, 130],\n",
       "          ...,\n",
       "          [176, 146, 146],\n",
       "          [173, 143, 145],\n",
       "          [168, 142, 143]],\n",
       " \n",
       "         [[170, 143, 148],\n",
       "          [171, 141, 141],\n",
       "          [164, 125, 120],\n",
       "          ...,\n",
       "          [170, 142, 139],\n",
       "          [173, 142, 147],\n",
       "          [171, 142, 144]],\n",
       " \n",
       "         [[173, 142, 147],\n",
       "          [171, 139, 142],\n",
       "          [171, 141, 143],\n",
       "          ...,\n",
       "          [167, 135, 136],\n",
       "          [162, 131, 129],\n",
       "          [159, 128, 125]]],\n",
       " \n",
       " \n",
       "        ...,\n",
       " \n",
       " \n",
       "        [[[162, 133, 127],\n",
       "          [161, 128, 123],\n",
       "          [160, 129, 124],\n",
       "          ...,\n",
       "          [154, 132, 144],\n",
       "          [155, 133, 146],\n",
       "          [150, 130, 142]],\n",
       " \n",
       "         [[154, 129, 125],\n",
       "          [159, 119, 111],\n",
       "          [157, 120, 112],\n",
       "          ...,\n",
       "          [157, 135, 147],\n",
       "          [158, 136, 149],\n",
       "          [154, 132, 144]],\n",
       " \n",
       "         [[153, 118, 116],\n",
       "          [155, 126, 118],\n",
       "          [154, 118, 106],\n",
       "          ...,\n",
       "          [160, 139, 146],\n",
       "          [161, 141, 153],\n",
       "          [158, 138, 150]],\n",
       " \n",
       "         ...,\n",
       " \n",
       "         [[175, 154, 159],\n",
       "          [176, 154, 157],\n",
       "          [170, 149, 154],\n",
       "          ...,\n",
       "          [130, 109, 116],\n",
       "          [133, 103, 115],\n",
       "          [131, 109, 122]],\n",
       " \n",
       "         [[175, 154, 161],\n",
       "          [173, 151, 154],\n",
       "          [173, 154, 160],\n",
       "          ...,\n",
       "          [133, 106, 113],\n",
       "          [130, 103, 112],\n",
       "          [131, 105, 116]],\n",
       " \n",
       "         [[168, 143, 146],\n",
       "          [161, 135, 136],\n",
       "          [156, 131, 135],\n",
       "          ...,\n",
       "          [128,  97, 103],\n",
       "          [129,  96, 107],\n",
       "          [130, 104, 115]]],\n",
       " \n",
       " \n",
       "        [[[141, 142, 147],\n",
       "          [158, 157, 163],\n",
       "          [172, 173, 177],\n",
       "          ...,\n",
       "          [185, 183, 194],\n",
       "          [174, 173, 181],\n",
       "          [163, 163, 175]],\n",
       " \n",
       "         [[154, 154, 162],\n",
       "          [171, 170, 176],\n",
       "          [177, 178, 182],\n",
       "          ...,\n",
       "          [190, 192, 204],\n",
       "          [185, 184, 192],\n",
       "          [168, 168, 178]],\n",
       " \n",
       "         [[165, 166, 170],\n",
       "          [174, 175, 179],\n",
       "          [187, 188, 192],\n",
       "          ...,\n",
       "          [194, 196, 209],\n",
       "          [186, 190, 202],\n",
       "          [176, 174, 188]],\n",
       " \n",
       "         ...,\n",
       " \n",
       "         [[129, 120, 121],\n",
       "          [148, 142, 144],\n",
       "          [163, 159, 160],\n",
       "          ...,\n",
       "          [182, 175, 182],\n",
       "          [171, 169, 174],\n",
       "          [160, 157, 164]],\n",
       " \n",
       "         [[110, 104, 108],\n",
       "          [134, 128, 130],\n",
       "          [152, 144, 142],\n",
       "          ...,\n",
       "          [172, 170, 181],\n",
       "          [165, 162, 169],\n",
       "          [156, 148, 161]],\n",
       " \n",
       "         [[ 95,  84,  88],\n",
       "          [117, 113, 112],\n",
       "          [135, 129, 129],\n",
       "          ...,\n",
       "          [170, 169, 174],\n",
       "          [159, 158, 164],\n",
       "          [144, 142, 145]]],\n",
       " \n",
       " \n",
       "        [[[190, 159, 177],\n",
       "          [198, 152, 180],\n",
       "          [174, 128, 139],\n",
       "          ...,\n",
       "          [176, 115, 110],\n",
       "          [184, 110, 111],\n",
       "          [182, 114, 113]],\n",
       " \n",
       "         [[191, 154, 172],\n",
       "          [192, 151, 165],\n",
       "          [167, 124, 131],\n",
       "          ...,\n",
       "          [178, 117, 114],\n",
       "          [177, 109, 100],\n",
       "          [185, 115, 113]],\n",
       " \n",
       "         [[187, 152, 174],\n",
       "          [194, 152, 166],\n",
       "          [169, 124, 131],\n",
       "          ...,\n",
       "          [182, 124, 122],\n",
       "          [182, 118, 119],\n",
       "          [183, 122, 127]],\n",
       " \n",
       "         ...,\n",
       " \n",
       "         [[157, 105, 118],\n",
       "          [192, 149, 169],\n",
       "          [214, 170, 193],\n",
       "          ...,\n",
       "          [195, 154, 150],\n",
       "          [194, 153, 159],\n",
       "          [184, 156, 155]],\n",
       " \n",
       "         [[167, 119, 131],\n",
       "          [154, 113, 131],\n",
       "          [191, 158, 175],\n",
       "          ...,\n",
       "          [200, 155, 160],\n",
       "          [202, 162, 170],\n",
       "          [197, 160, 167]],\n",
       " \n",
       "         [[168, 118, 130],\n",
       "          [161, 116, 121],\n",
       "          [170, 122, 144],\n",
       "          ...,\n",
       "          [202, 163, 168],\n",
       "          [198, 156, 160],\n",
       "          [201, 166, 172]]]], dtype=uint8)>,\n",
       " <tf.Tensor: shape=(32, 7), dtype=uint8, numpy=\n",
       " array([[1, 0, 0, 0, 0, 0, 0],\n",
       "        [1, 0, 0, 0, 0, 0, 0],\n",
       "        [1, 0, 0, 0, 0, 0, 0],\n",
       "        [1, 0, 0, 0, 0, 0, 0],\n",
       "        [1, 0, 0, 0, 0, 0, 0],\n",
       "        [1, 0, 0, 0, 0, 0, 0],\n",
       "        [1, 0, 0, 0, 0, 0, 0],\n",
       "        [1, 0, 0, 0, 0, 0, 0],\n",
       "        [1, 0, 0, 0, 0, 0, 0],\n",
       "        [1, 0, 0, 0, 0, 0, 0],\n",
       "        [1, 0, 0, 0, 0, 0, 0],\n",
       "        [1, 0, 0, 0, 0, 0, 0],\n",
       "        [1, 0, 0, 0, 0, 0, 0],\n",
       "        [1, 0, 0, 0, 0, 0, 0],\n",
       "        [1, 0, 0, 0, 0, 0, 0],\n",
       "        [1, 0, 0, 0, 0, 0, 0],\n",
       "        [1, 0, 0, 0, 0, 0, 0],\n",
       "        [1, 0, 0, 0, 0, 0, 0],\n",
       "        [1, 0, 0, 0, 0, 0, 0],\n",
       "        [1, 0, 0, 0, 0, 0, 0],\n",
       "        [1, 0, 0, 0, 0, 0, 0],\n",
       "        [1, 0, 0, 0, 0, 0, 0],\n",
       "        [1, 0, 0, 0, 0, 0, 0],\n",
       "        [1, 0, 0, 0, 0, 0, 0],\n",
       "        [1, 0, 0, 0, 0, 0, 0],\n",
       "        [1, 0, 0, 0, 0, 0, 0],\n",
       "        [1, 0, 0, 0, 0, 0, 0],\n",
       "        [1, 0, 0, 0, 0, 0, 0],\n",
       "        [1, 0, 0, 0, 0, 0, 0],\n",
       "        [1, 0, 0, 0, 0, 0, 0],\n",
       "        [1, 0, 0, 0, 0, 0, 0],\n",
       "        [1, 0, 0, 0, 0, 0, 0]], dtype=uint8)>)"
      ]
     },
     "execution_count": 69,
     "metadata": {},
     "output_type": "execute_result"
    }
   ],
   "source": [
    "test.take(1).get_single_element()"
   ]
  },
  {
   "cell_type": "code",
   "execution_count": 70,
   "id": "682a3b92",
   "metadata": {
    "ExecuteTime": {
     "end_time": "2022-06-23T16:02:30.417543Z",
     "start_time": "2022-06-23T16:01:06.177215Z"
    }
   },
   "outputs": [],
   "source": [
    "y_pred = model.predict(test)"
   ]
  },
  {
   "cell_type": "code",
   "execution_count": 71,
   "id": "4171518d",
   "metadata": {
    "ExecuteTime": {
     "end_time": "2022-06-23T16:02:31.422314Z",
     "start_time": "2022-06-23T16:02:31.187564Z"
    }
   },
   "outputs": [
    {
     "name": "stdout",
     "output_type": "stream",
     "text": [
      "<class 'pandas.core.frame.DataFrame'>\n",
      "Int64Index: 998 entries, 0 to 13\n",
      "Data columns (total 9 columns):\n",
      " #   Column        Non-Null Count  Dtype  \n",
      "---  ------        --------------  -----  \n",
      " 0   lesion_id     998 non-null    object \n",
      " 1   image_id      998 non-null    object \n",
      " 2   dx            998 non-null    object \n",
      " 3   dx_type       998 non-null    object \n",
      " 4   age           990 non-null    float64\n",
      " 5   sex           998 non-null    object \n",
      " 6   localization  998 non-null    object \n",
      " 7   path          998 non-null    object \n",
      " 8   cat           998 non-null    int64  \n",
      "dtypes: float64(1), int64(1), object(7)\n",
      "memory usage: 78.0+ KB\n"
     ]
    }
   ],
   "source": [
    "test_df.info()"
   ]
  },
  {
   "cell_type": "code",
   "execution_count": 72,
   "id": "078ea367",
   "metadata": {
    "ExecuteTime": {
     "end_time": "2022-06-23T16:02:32.040276Z",
     "start_time": "2022-06-23T16:02:32.033200Z"
    }
   },
   "outputs": [],
   "source": [
    "y_pred = np.argmax(y_pred, axis=1)"
   ]
  },
  {
   "cell_type": "code",
   "execution_count": 73,
   "id": "0403e9c9",
   "metadata": {
    "ExecuteTime": {
     "end_time": "2022-06-23T16:02:33.122489Z",
     "start_time": "2022-06-23T16:02:33.081864Z"
    }
   },
   "outputs": [
    {
     "data": {
      "text/plain": [
       "array([0, 0, 0, 0, 0, 0, 0, 0, 0, 0, 0, 0, 0, 0, 0, 0, 0, 0, 0, 0, 0, 0,\n",
       "       0, 0, 0, 0, 0, 0, 0, 0, 0, 0, 1, 1, 1, 1, 1, 1, 1, 1, 1, 1, 1, 1,\n",
       "       1, 1, 1, 1, 1, 1, 1, 1, 1, 1, 1, 1, 1, 1, 1, 1, 1, 1, 1, 1, 1, 1,\n",
       "       1, 1, 1, 1, 1, 1, 1, 1, 1, 1, 1, 1, 1, 1, 1, 1, 1, 2, 2, 2, 2, 2,\n",
       "       2, 2, 2, 2, 2, 2, 2, 2, 2, 2, 2, 2, 2, 2, 2, 2, 2, 2, 2, 2, 2, 2,\n",
       "       2, 2, 2, 2, 2, 2, 2, 2, 2, 2, 2, 2, 2, 2, 2, 2, 2, 2, 2, 2, 2, 2,\n",
       "       2, 2, 2, 2, 2, 2, 2, 2, 2, 2, 2, 2, 2, 2, 2, 2, 2, 2, 2, 2, 2, 2,\n",
       "       2, 2, 2, 2, 2, 2, 2, 2, 2, 2, 2, 2, 2, 2, 2, 2, 2, 2, 2, 2, 2, 2,\n",
       "       2, 2, 2, 2, 2, 2, 2, 2, 2, 2, 2, 2, 2, 2, 2, 2, 3, 3, 3, 3, 3, 3,\n",
       "       3, 3, 3, 3, 3, 4, 4, 4, 4, 4, 4, 4, 4, 4, 4, 4, 4, 4, 4, 4, 4, 4,\n",
       "       4, 4, 4, 4, 4, 4, 4, 4, 4, 4, 4, 4, 4, 4, 4, 4, 4, 4, 4, 4, 4, 4,\n",
       "       4, 4, 4, 4, 4, 4, 4, 4, 4, 4, 4, 4, 4, 4, 4, 4, 4, 4, 4, 4, 4, 4,\n",
       "       4, 4, 4, 4, 4, 4, 4, 4, 4, 4, 4, 4, 4, 4, 4, 4, 4, 4, 4, 4, 4, 4,\n",
       "       4, 4, 4, 4, 4, 4, 4, 4, 4, 4, 4, 4, 4, 4, 4, 4, 4, 4, 4, 4, 4, 4,\n",
       "       4, 4, 4, 4, 4, 4, 5, 5, 5, 5, 5, 5, 5, 5, 5, 5, 5, 5, 5, 5, 5, 5,\n",
       "       5, 5, 5, 5, 5, 5, 5, 5, 5, 5, 5, 5, 5, 5, 5, 5, 5, 5, 5, 5, 5, 5,\n",
       "       5, 5, 5, 5, 5, 5, 5, 5, 5, 5, 5, 5, 5, 5, 5, 5, 5, 5, 5, 5, 5, 5,\n",
       "       5, 5, 5, 5, 5, 5, 5, 5, 5, 5, 5, 5, 5, 5, 5, 5, 5, 5, 5, 5, 5, 5,\n",
       "       5, 5, 5, 5, 5, 5, 5, 5, 5, 5, 5, 5, 5, 5, 5, 5, 5, 5, 5, 5, 5, 5,\n",
       "       5, 5, 5, 5, 5, 5, 5, 5, 5, 5, 5, 5, 5, 5, 5, 5, 5, 5, 5, 5, 5, 5,\n",
       "       5, 5, 5, 5, 5, 5, 5, 5, 5, 5, 5, 5, 5, 5, 5, 5, 5, 5, 5, 5, 5, 5,\n",
       "       5, 5, 5, 5, 5, 5, 5, 5, 5, 5, 5, 5, 5, 5, 5, 5, 5, 5, 5, 5, 5, 5,\n",
       "       5, 5, 5, 5, 5, 5, 5, 5, 5, 5, 5, 5, 5, 5, 5, 5, 5, 5, 5, 5, 5, 5,\n",
       "       5, 5, 5, 5, 5, 5, 5, 5, 5, 5, 5, 5, 5, 5, 5, 5, 5, 5, 5, 5, 5, 5,\n",
       "       5, 5, 5, 5, 5, 5, 5, 5, 5, 5, 5, 5, 5, 5, 5, 5, 5, 5, 5, 5, 5, 5,\n",
       "       5, 5, 5, 5, 5, 5, 5, 5, 5, 5, 5, 5, 5, 5, 5, 5, 5, 5, 5, 5, 5, 5,\n",
       "       5, 5, 5, 5, 5, 5, 5, 5, 5, 5, 5, 5, 5, 5, 5, 5, 5, 5, 5, 5, 5, 5,\n",
       "       5, 5, 5, 5, 5, 5, 5, 5, 5, 5, 5, 5, 5, 5, 5, 5, 5, 5, 5, 5, 5, 5,\n",
       "       5, 5, 5, 5, 5, 5, 5, 5, 5, 5, 5, 5, 5, 5, 5, 5, 5, 5, 5, 5, 5, 5,\n",
       "       5, 5, 5, 5, 5, 5, 5, 5, 5, 5, 5, 5, 5, 5, 5, 5, 5, 5, 5, 5, 5, 5,\n",
       "       5, 5, 5, 5, 5, 5, 5, 5, 5, 5, 5, 5, 5, 5, 5, 5, 5, 5, 5, 5, 5, 5,\n",
       "       5, 5, 5, 5, 5, 5, 5, 5, 5, 5, 5, 5, 5, 5, 5, 5, 5, 5, 5, 5, 5, 5,\n",
       "       5, 5, 5, 5, 5, 5, 5, 5, 5, 5, 5, 5, 5, 5, 5, 5, 5, 5, 5, 5, 5, 5,\n",
       "       5, 5, 5, 5, 5, 5, 5, 5, 5, 5, 5, 5, 5, 5, 5, 5, 5, 5, 5, 5, 5, 5,\n",
       "       5, 5, 5, 5, 5, 5, 5, 5, 5, 5, 5, 5, 5, 5, 5, 5, 5, 5, 5, 5, 5, 5,\n",
       "       5, 5, 5, 5, 5, 5, 5, 5, 5, 5, 5, 5, 5, 5, 5, 5, 5, 5, 5, 5, 5, 5,\n",
       "       5, 5, 5, 5, 5, 5, 5, 5, 5, 5, 5, 5, 5, 5, 5, 5, 5, 5, 5, 5, 5, 5,\n",
       "       5, 5, 5, 5, 5, 5, 5, 5, 5, 5, 5, 5, 5, 5, 5, 5, 5, 5, 5, 5, 5, 5,\n",
       "       5, 5, 5, 5, 5, 5, 5, 5, 5, 5, 5, 5, 5, 5, 5, 5, 5, 5, 5, 5, 5, 5,\n",
       "       5, 5, 5, 5, 5, 5, 5, 5, 5, 5, 5, 5, 5, 5, 5, 5, 5, 5, 5, 5, 5, 5,\n",
       "       5, 5, 5, 5, 5, 5, 5, 5, 5, 5, 5, 5, 5, 5, 5, 5, 5, 5, 5, 5, 5, 5,\n",
       "       5, 5, 5, 5, 5, 5, 5, 5, 5, 5, 5, 5, 5, 5, 5, 5, 5, 5, 5, 5, 5, 5,\n",
       "       5, 5, 5, 5, 5, 5, 5, 5, 5, 5, 5, 5, 5, 5, 5, 5, 5, 5, 5, 5, 5, 5,\n",
       "       5, 5, 5, 5, 5, 5, 5, 5, 5, 5, 5, 5, 5, 5, 5, 5, 5, 5, 5, 5, 5, 5,\n",
       "       5, 5, 5, 5, 5, 5, 5, 5, 5, 5, 5, 5, 5, 5, 5, 5, 6, 6, 6, 6, 6, 6,\n",
       "       6, 6, 6, 6, 6, 6, 6, 6])"
      ]
     },
     "execution_count": 73,
     "metadata": {},
     "output_type": "execute_result"
    }
   ],
   "source": [
    "y_true=np.array(test_df['cat'])\n",
    "y_true"
   ]
  },
  {
   "cell_type": "code",
   "execution_count": 59,
   "id": "86dd5a74",
   "metadata": {
    "ExecuteTime": {
     "end_time": "2022-06-23T09:38:52.905675Z",
     "start_time": "2022-06-23T09:38:52.476180Z"
    }
   },
   "outputs": [
    {
     "data": {
      "image/png": "[encoded data removed]",
      "text/plain": [
       "<Figure size 720x720 with 2 Axes>"
      ]
     },
     "metadata": {
      "needs_background": "light"
     },
     "output_type": "display_data"
    }
   ],
   "source": [
    "fig, ax = plt.subplots(figsize=(10, 10))\n",
    "#plot_confusion_matrix(your_model, X_test, y_test, ax=ax)\n",
    "disp = ConfusionMatrixDisplay.from_predictions(y_true, y_pred, normalize='true', \n",
    "                                               display_labels=test_df['dx'].unique(), ax=ax,\n",
    "                                               #title=\"Confusion matrix categorical classification\",\n",
    "                                            cmap=plt.cm.Blues);\n",
    "\n",
    "\n"
   ]
  },
  {
   "cell_type": "code",
   "execution_count": 90,
   "id": "8fa44c81",
   "metadata": {
    "ExecuteTime": {
     "end_time": "2022-06-23T17:11:56.398788Z",
     "start_time": "2022-06-23T17:11:55.838128Z"
    }
   },
   "outputs": [
    {
     "data": {
      "image/png": "[encoded data removed]",
      "text/plain": [
       "<Figure size 720x720 with 2 Axes>"
      ]
     },
     "metadata": {
      "needs_background": "light"
     },
     "output_type": "display_data"
    }
   ],
   "source": [
    "fig, ax = plt.subplots(figsize=(10, 10))\n",
    "#plot_confusion_matrix(your_model, X_test, y_test, ax=ax)\n",
    "disp = ConfusionMatrixDisplay.from_predictions(y_true, y_pred, normalize='true', \n",
    "                                               display_labels=test_df['dx'].unique(), ax=ax,\n",
    "                                               #title=\"Confusion matrix categorical classification\",\n",
    "                                            cmap=plt.cm.Blues);\n"
   ]
  },
  {
   "cell_type": "code",
   "execution_count": 89,
   "id": "852a7892",
   "metadata": {
    "ExecuteTime": {
     "end_time": "2022-06-23T17:10:33.175233Z",
     "start_time": "2022-06-23T17:10:33.129976Z"
    }
   },
   "outputs": [
    {
     "data": {
      "text/plain": [
       "0.8366733466933868"
      ]
     },
     "execution_count": 89,
     "metadata": {},
     "output_type": "execute_result"
    }
   ],
   "source": [
    "accuracy_score(y_true, y_pred)"
   ]
  },
  {
   "cell_type": "code",
   "execution_count": 34,
   "id": "7308ab36",
   "metadata": {
    "ExecuteTime": {
     "end_time": "2022-06-23T08:58:01.104918Z",
     "start_time": "2022-06-23T08:58:01.095899Z"
    }
   },
   "outputs": [
    {
     "data": {
      "text/plain": [
       "array(['akiec', 'bcc', 'bkl', 'df', 'mel', 'nv', 'vasc'], dtype=object)"
      ]
     },
     "execution_count": 34,
     "metadata": {},
     "output_type": "execute_result"
    }
   ],
   "source": [
    "test_df['dx'].unique()"
   ]
  },
  {
   "cell_type": "code",
   "execution_count": 77,
   "id": "602438bd",
   "metadata": {
    "ExecuteTime": {
     "end_time": "2022-06-23T16:12:33.099286Z",
     "start_time": "2022-06-23T16:12:33.083642Z"
    }
   },
   "outputs": [],
   "source": [
    "def perf_measure(y_actual, y_pred):\n",
    "    TP = 0\n",
    "    FP = 0\n",
    "    TN = 0\n",
    "    FN = 0\n",
    "\n",
    "    for i in range(len(y_pred)): \n",
    "        if y_actual[i]==y_pred[i]==1:\n",
    "            TP += 1\n",
    "        if y_pred[i]==1 and y_actual[i]!=y_pred[i]:\n",
    "            FP += 1\n",
    "        if y_actual[i]==y_pred[i]==0:\n",
    "            TN += 1\n",
    "        if y_pred[i]==0 and y_actual[i]!=y_pred[i]:\n",
    "            FN += 1\n",
    "    return (TP, FP, TN, FN)"
   ]
  },
  {
   "cell_type": "code",
   "execution_count": 79,
   "id": "e0a6fa04",
   "metadata": {
    "ExecuteTime": {
     "end_time": "2022-06-23T16:12:57.846151Z",
     "start_time": "2022-06-23T16:12:57.815847Z"
    }
   },
   "outputs": [
    {
     "data": {
      "text/plain": [
       "(32, 17, 22, 39)"
      ]
     },
     "execution_count": 79,
     "metadata": {},
     "output_type": "execute_result"
    }
   ],
   "source": [
    "perf_measure(y_true, y_pred)"
   ]
  },
  {
   "cell_type": "code",
   "execution_count": 93,
   "id": "1a6f0e39",
   "metadata": {
    "ExecuteTime": {
     "end_time": "2022-06-23T17:37:34.035167Z",
     "start_time": "2022-06-23T17:37:33.989333Z"
    }
   },
   "outputs": [
    {
     "data": {
      "text/plain": [
       "array(['akiec', 'bcc', 'bkl', 'df', 'mel', 'nv', 'vasc'], dtype=object)"
      ]
     },
     "execution_count": 93,
     "metadata": {},
     "output_type": "execute_result"
    }
   ],
   "source": [
    "test_df['dx'].unique()"
   ]
  }
 ],
 "metadata": {
  "kernelspec": {
   "display_name": "Python 3 (ipykernel)",
   "language": "python",
   "name": "python3"
  },
  "language_info": {
   "codemirror_mode": {
    "name": "ipython",
    "version": 3
   },
   "file_extension": ".py",
   "mimetype": "text/x-python",
   "name": "python",
   "nbconvert_exporter": "python",
   "pygments_lexer": "ipython3",
   "version": "3.8.12"
  },
  "latex_envs": {
   "LaTeX_envs_menu_present": true,
   "autoclose": false,
   "autocomplete": true,
   "bibliofile": "biblio.bib",
   "cite_by": "apalike",
   "current_citInitial": 1,
   "eqLabelWithNumbers": true,
   "eqNumInitial": 1,
   "hotkeys": {
    "equation": "Ctrl-E",
    "itemize": "Ctrl-I"
   },
   "labels_anchors": false,
   "latex_user_defs": false,
   "report_style_numbering": false,
   "user_envs_cfg": false
  },
  "toc": {
   "base_numbering": 1,
   "nav_menu": {},
   "number_sections": true,
   "sideBar": true,
   "skip_h1_title": false,
   "title_cell": "Table of Contents",
   "title_sidebar": "Contents",
   "toc_cell": false,
   "toc_position": {},
   "toc_section_display": true,
   "toc_window_display": false
  },
  "varInspector": {
   "cols": {
    "lenName": 16,
    "lenType": 16,
    "lenVar": 40
   },
   "kernels_config": {
    "python": {
     "delete_cmd_postfix": "",
     "delete_cmd_prefix": "del ",
     "library": "var_list.py",
     "varRefreshCmd": "print(var_dic_list())"
    },
    "r": {
     "delete_cmd_postfix": ") ",
     "delete_cmd_prefix": "rm(",
     "library": "var_list.r",
     "varRefreshCmd": "cat(var_dic_list()) "
    }
   },
   "types_to_exclude": [
    "module",
    "function",
    "builtin_function_or_method",
    "instance",
    "_Feature"
   ],
   "window_display": false
  }
 },
 "nbformat": 4,
 "nbformat_minor": 5
}
